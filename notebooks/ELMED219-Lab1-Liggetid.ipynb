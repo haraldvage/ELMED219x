{
 "cells": [
  {
   "cell_type": "markdown",
   "metadata": {},
   "source": [
    "# Introduksjon"
   ]
  },
  {
   "cell_type": "markdown",
   "metadata": {},
   "source": [
    "I denne notebooken skal vi illustrere hvordan maskinlæring kan brukes på helsejournaldata via et (lite) eksempel. Se introslides til Lab 1 for motivasjon til problemstillingen."
   ]
  },
  {
   "cell_type": "markdown",
   "metadata": {},
   "source": [
    "Fra data samlet inn fra 100.000 pasienter og tilrettelagt og tilgjengeliggjort av Microsoft https://microsoft.github.io/r-server-hospital-length-of-stay/index.html skal vi forsøke å forutsi liggetiden til pasienter som legges inn på sykehuset. Et slikt system (om det var tilstrekkelig robust og nøyaktig nok) ville vært svært nyttig for ressursfordeling på et sykehus, blant annet for fordeling av personell og for planlegging av utskrivninger ved en avdeling. Ved å undersøke hvilke egenskaper som gir størst forklaringsverdi for systemet kan en også (potensielt) avdekke interessante sammenhenger mellom journaldata og pasienters tilstand. "
   ]
  },
  {
   "cell_type": "markdown",
   "metadata": {},
   "source": [
    "# Setup"
   ]
  },
  {
   "cell_type": "code",
   "execution_count": 1,
   "metadata": {},
   "outputs": [],
   "source": [
    "%matplotlib inline\n",
    "import numpy as np\n",
    "import pandas as pd\n",
    "import matplotlib.pyplot as plt\n",
    "import seaborn as sns\n",
    "import sklearn\n",
    "from pathlib import Path"
   ]
  },
  {
   "cell_type": "code",
   "execution_count": 2,
   "metadata": {},
   "outputs": [],
   "source": [
    "DATA = Path('../data/hospital')"
   ]
  },
  {
   "cell_type": "markdown",
   "metadata": {},
   "source": [
    "# Les inn og se på data"
   ]
  },
  {
   "cell_type": "markdown",
   "metadata": {},
   "source": [
    "Datasettet består av tre filer:"
   ]
  },
  {
   "cell_type": "code",
   "execution_count": 3,
   "metadata": {},
   "outputs": [],
   "source": [
    "LOS = pd.read_pickle(DATA/'hospital')\n",
    "DICT = pd.read_excel(DATA/'Data_Dictionary.xlsx')\n",
    "METADATA = pd.read_csv(DATA/'MetaData_Facilities.csv')"
   ]
  },
  {
   "cell_type": "markdown",
   "metadata": {},
   "source": [
    "Vi tar en titt på alle tre:"
   ]
  },
  {
   "cell_type": "code",
   "execution_count": 4,
   "metadata": {},
   "outputs": [
    {
     "data": {
      "text/html": [
       "<div>\n",
       "<style scoped>\n",
       "    .dataframe tbody tr th:only-of-type {\n",
       "        vertical-align: middle;\n",
       "    }\n",
       "\n",
       "    .dataframe tbody tr th {\n",
       "        vertical-align: top;\n",
       "    }\n",
       "\n",
       "    .dataframe thead th {\n",
       "        text-align: right;\n",
       "    }\n",
       "</style>\n",
       "<table border=\"1\" class=\"dataframe\">\n",
       "  <thead>\n",
       "    <tr style=\"text-align: right;\">\n",
       "      <th></th>\n",
       "      <th>rcount</th>\n",
       "      <th>gender</th>\n",
       "      <th>facid</th>\n",
       "      <th>eid</th>\n",
       "      <th>dialysisrenalendstage</th>\n",
       "      <th>asthma</th>\n",
       "      <th>irondef</th>\n",
       "      <th>pneum</th>\n",
       "      <th>substancedependence</th>\n",
       "      <th>psychologicaldisordermajor</th>\n",
       "      <th>...</th>\n",
       "      <th>neutrophils</th>\n",
       "      <th>sodium</th>\n",
       "      <th>glucose</th>\n",
       "      <th>bloodureanitro</th>\n",
       "      <th>creatinine</th>\n",
       "      <th>bmi</th>\n",
       "      <th>pulse</th>\n",
       "      <th>respiration</th>\n",
       "      <th>secondarydiagnosisnonicd9</th>\n",
       "      <th>lengthofstay</th>\n",
       "    </tr>\n",
       "  </thead>\n",
       "  <tbody>\n",
       "    <tr>\n",
       "      <th>0</th>\n",
       "      <td>0</td>\n",
       "      <td>0</td>\n",
       "      <td>1</td>\n",
       "      <td>1</td>\n",
       "      <td>False</td>\n",
       "      <td>False</td>\n",
       "      <td>False</td>\n",
       "      <td>False</td>\n",
       "      <td>False</td>\n",
       "      <td>False</td>\n",
       "      <td>...</td>\n",
       "      <td>14.20</td>\n",
       "      <td>140.361130</td>\n",
       "      <td>192.476913</td>\n",
       "      <td>12.0</td>\n",
       "      <td>1.390722</td>\n",
       "      <td>30.432417</td>\n",
       "      <td>96</td>\n",
       "      <td>6.5</td>\n",
       "      <td>4</td>\n",
       "      <td>3</td>\n",
       "    </tr>\n",
       "    <tr>\n",
       "      <th>1</th>\n",
       "      <td>5</td>\n",
       "      <td>0</td>\n",
       "      <td>0</td>\n",
       "      <td>2</td>\n",
       "      <td>False</td>\n",
       "      <td>False</td>\n",
       "      <td>False</td>\n",
       "      <td>False</td>\n",
       "      <td>False</td>\n",
       "      <td>False</td>\n",
       "      <td>...</td>\n",
       "      <td>4.10</td>\n",
       "      <td>136.731689</td>\n",
       "      <td>94.078506</td>\n",
       "      <td>8.0</td>\n",
       "      <td>0.943164</td>\n",
       "      <td>28.460516</td>\n",
       "      <td>61</td>\n",
       "      <td>6.5</td>\n",
       "      <td>1</td>\n",
       "      <td>7</td>\n",
       "    </tr>\n",
       "    <tr>\n",
       "      <th>2</th>\n",
       "      <td>1</td>\n",
       "      <td>0</td>\n",
       "      <td>1</td>\n",
       "      <td>3</td>\n",
       "      <td>False</td>\n",
       "      <td>False</td>\n",
       "      <td>False</td>\n",
       "      <td>False</td>\n",
       "      <td>False</td>\n",
       "      <td>False</td>\n",
       "      <td>...</td>\n",
       "      <td>8.90</td>\n",
       "      <td>133.058517</td>\n",
       "      <td>130.530518</td>\n",
       "      <td>12.0</td>\n",
       "      <td>1.065750</td>\n",
       "      <td>28.843811</td>\n",
       "      <td>64</td>\n",
       "      <td>6.5</td>\n",
       "      <td>2</td>\n",
       "      <td>3</td>\n",
       "    </tr>\n",
       "    <tr>\n",
       "      <th>3</th>\n",
       "      <td>0</td>\n",
       "      <td>0</td>\n",
       "      <td>0</td>\n",
       "      <td>4</td>\n",
       "      <td>False</td>\n",
       "      <td>False</td>\n",
       "      <td>False</td>\n",
       "      <td>False</td>\n",
       "      <td>False</td>\n",
       "      <td>False</td>\n",
       "      <td>...</td>\n",
       "      <td>9.40</td>\n",
       "      <td>138.994019</td>\n",
       "      <td>163.377029</td>\n",
       "      <td>12.0</td>\n",
       "      <td>0.906862</td>\n",
       "      <td>27.959007</td>\n",
       "      <td>76</td>\n",
       "      <td>6.5</td>\n",
       "      <td>1</td>\n",
       "      <td>1</td>\n",
       "    </tr>\n",
       "    <tr>\n",
       "      <th>4</th>\n",
       "      <td>0</td>\n",
       "      <td>0</td>\n",
       "      <td>4</td>\n",
       "      <td>5</td>\n",
       "      <td>False</td>\n",
       "      <td>False</td>\n",
       "      <td>False</td>\n",
       "      <td>True</td>\n",
       "      <td>False</td>\n",
       "      <td>True</td>\n",
       "      <td>...</td>\n",
       "      <td>9.05</td>\n",
       "      <td>138.634842</td>\n",
       "      <td>94.886658</td>\n",
       "      <td>11.5</td>\n",
       "      <td>1.242854</td>\n",
       "      <td>30.258926</td>\n",
       "      <td>67</td>\n",
       "      <td>5.6</td>\n",
       "      <td>2</td>\n",
       "      <td>4</td>\n",
       "    </tr>\n",
       "  </tbody>\n",
       "</table>\n",
       "<p>5 rows × 26 columns</p>\n",
       "</div>"
      ],
      "text/plain": [
       "   rcount  gender  facid  eid  dialysisrenalendstage  asthma  irondef  pneum  \\\n",
       "0       0       0      1    1                  False   False    False  False   \n",
       "1       5       0      0    2                  False   False    False  False   \n",
       "2       1       0      1    3                  False   False    False  False   \n",
       "3       0       0      0    4                  False   False    False  False   \n",
       "4       0       0      4    5                  False   False    False   True   \n",
       "\n",
       "   substancedependence  psychologicaldisordermajor      ...       neutrophils  \\\n",
       "0                False                       False      ...             14.20   \n",
       "1                False                       False      ...              4.10   \n",
       "2                False                       False      ...              8.90   \n",
       "3                False                       False      ...              9.40   \n",
       "4                False                        True      ...              9.05   \n",
       "\n",
       "       sodium     glucose  bloodureanitro  creatinine        bmi  pulse  \\\n",
       "0  140.361130  192.476913            12.0    1.390722  30.432417     96   \n",
       "1  136.731689   94.078506             8.0    0.943164  28.460516     61   \n",
       "2  133.058517  130.530518            12.0    1.065750  28.843811     64   \n",
       "3  138.994019  163.377029            12.0    0.906862  27.959007     76   \n",
       "4  138.634842   94.886658            11.5    1.242854  30.258926     67   \n",
       "\n",
       "   respiration  secondarydiagnosisnonicd9  lengthofstay  \n",
       "0          6.5                          4             3  \n",
       "1          6.5                          1             7  \n",
       "2          6.5                          2             3  \n",
       "3          6.5                          1             1  \n",
       "4          5.6                          2             4  \n",
       "\n",
       "[5 rows x 26 columns]"
      ]
     },
     "execution_count": 4,
     "metadata": {},
     "output_type": "execute_result"
    }
   ],
   "source": [
    "LOS.head()"
   ]
  },
  {
   "cell_type": "code",
   "execution_count": 5,
   "metadata": {},
   "outputs": [
    {
     "name": "stdout",
     "output_type": "stream",
     "text": [
      "<class 'pandas.core.frame.DataFrame'>\n",
      "RangeIndex: 100000 entries, 0 to 99999\n",
      "Data columns (total 26 columns):\n",
      "rcount                        100000 non-null int32\n",
      "gender                        100000 non-null int32\n",
      "facid                         100000 non-null int32\n",
      "eid                           100000 non-null int32\n",
      "dialysisrenalendstage         100000 non-null bool\n",
      "asthma                        100000 non-null bool\n",
      "irondef                       100000 non-null bool\n",
      "pneum                         100000 non-null bool\n",
      "substancedependence           100000 non-null bool\n",
      "psychologicaldisordermajor    100000 non-null bool\n",
      "depress                       100000 non-null bool\n",
      "psychother                    100000 non-null bool\n",
      "fibrosisandother              100000 non-null bool\n",
      "malnutrition                  100000 non-null bool\n",
      "hemo                          100000 non-null bool\n",
      "hematocrit                    100000 non-null float32\n",
      "neutrophils                   100000 non-null float32\n",
      "sodium                        100000 non-null float32\n",
      "glucose                       100000 non-null float32\n",
      "bloodureanitro                100000 non-null float32\n",
      "creatinine                    100000 non-null float32\n",
      "bmi                           100000 non-null float32\n",
      "pulse                         100000 non-null int32\n",
      "respiration                   100000 non-null float32\n",
      "secondarydiagnosisnonicd9     100000 non-null int32\n",
      "lengthofstay                  100000 non-null object\n",
      "dtypes: bool(11), float32(8), int32(6), object(1)\n",
      "memory usage: 7.2+ MB\n"
     ]
    }
   ],
   "source": [
    "LOS.info()"
   ]
  },
  {
   "cell_type": "code",
   "execution_count": 6,
   "metadata": {},
   "outputs": [
    {
     "data": {
      "text/html": [
       "<div>\n",
       "<style scoped>\n",
       "    .dataframe tbody tr th:only-of-type {\n",
       "        vertical-align: middle;\n",
       "    }\n",
       "\n",
       "    .dataframe tbody tr th {\n",
       "        vertical-align: top;\n",
       "    }\n",
       "\n",
       "    .dataframe thead th {\n",
       "        text-align: right;\n",
       "    }\n",
       "</style>\n",
       "<table border=\"1\" class=\"dataframe\">\n",
       "  <thead>\n",
       "    <tr style=\"text-align: right;\">\n",
       "      <th></th>\n",
       "      <th>Index</th>\n",
       "      <th>Data fields</th>\n",
       "      <th>Type</th>\n",
       "      <th>Descriptions</th>\n",
       "    </tr>\n",
       "  </thead>\n",
       "  <tbody>\n",
       "    <tr>\n",
       "      <th>0</th>\n",
       "      <td>NaN</td>\n",
       "      <td>LengthOfStay</td>\n",
       "      <td>NaN</td>\n",
       "      <td>NaN</td>\n",
       "    </tr>\n",
       "    <tr>\n",
       "      <th>1</th>\n",
       "      <td>1.0</td>\n",
       "      <td>eid</td>\n",
       "      <td>Integer</td>\n",
       "      <td>Unique Id of the hospital admission</td>\n",
       "    </tr>\n",
       "    <tr>\n",
       "      <th>2</th>\n",
       "      <td>2.0</td>\n",
       "      <td>vdate</td>\n",
       "      <td>String</td>\n",
       "      <td>Visit date</td>\n",
       "    </tr>\n",
       "    <tr>\n",
       "      <th>3</th>\n",
       "      <td>3.0</td>\n",
       "      <td>rcount</td>\n",
       "      <td>Integer</td>\n",
       "      <td>Number of readmissions within last 180 days</td>\n",
       "    </tr>\n",
       "    <tr>\n",
       "      <th>4</th>\n",
       "      <td>4.0</td>\n",
       "      <td>gender</td>\n",
       "      <td>String</td>\n",
       "      <td>Gender of the patient\\nM or F</td>\n",
       "    </tr>\n",
       "    <tr>\n",
       "      <th>5</th>\n",
       "      <td>5.0</td>\n",
       "      <td>dialysisrenalendstage</td>\n",
       "      <td>String</td>\n",
       "      <td>Flag for renal disease during encounter</td>\n",
       "    </tr>\n",
       "    <tr>\n",
       "      <th>6</th>\n",
       "      <td>6.0</td>\n",
       "      <td>asthma</td>\n",
       "      <td>String</td>\n",
       "      <td>Flag for asthma during encounter</td>\n",
       "    </tr>\n",
       "    <tr>\n",
       "      <th>7</th>\n",
       "      <td>7.0</td>\n",
       "      <td>irondef</td>\n",
       "      <td>String</td>\n",
       "      <td>Flag for iron deficiency during encounter</td>\n",
       "    </tr>\n",
       "    <tr>\n",
       "      <th>8</th>\n",
       "      <td>8.0</td>\n",
       "      <td>pneum</td>\n",
       "      <td>String</td>\n",
       "      <td>Flag for pneumonia during encounter</td>\n",
       "    </tr>\n",
       "    <tr>\n",
       "      <th>9</th>\n",
       "      <td>9.0</td>\n",
       "      <td>substancedependence</td>\n",
       "      <td>String</td>\n",
       "      <td>Flag for substance dependence during encounter</td>\n",
       "    </tr>\n",
       "    <tr>\n",
       "      <th>10</th>\n",
       "      <td>10.0</td>\n",
       "      <td>psychologicaldisordermajor</td>\n",
       "      <td>String</td>\n",
       "      <td>Flag for major psychological disorder during e...</td>\n",
       "    </tr>\n",
       "    <tr>\n",
       "      <th>11</th>\n",
       "      <td>11.0</td>\n",
       "      <td>depress</td>\n",
       "      <td>String</td>\n",
       "      <td>Flag for depression during encounter</td>\n",
       "    </tr>\n",
       "    <tr>\n",
       "      <th>12</th>\n",
       "      <td>12.0</td>\n",
       "      <td>psychother</td>\n",
       "      <td>String</td>\n",
       "      <td>Flag for other psychological disorder during e...</td>\n",
       "    </tr>\n",
       "    <tr>\n",
       "      <th>13</th>\n",
       "      <td>13.0</td>\n",
       "      <td>fibrosisandother</td>\n",
       "      <td>String</td>\n",
       "      <td>Flag for fibrosis during encounter</td>\n",
       "    </tr>\n",
       "    <tr>\n",
       "      <th>14</th>\n",
       "      <td>14.0</td>\n",
       "      <td>malnutrition</td>\n",
       "      <td>String</td>\n",
       "      <td>Flag for malnutrituion during encounter</td>\n",
       "    </tr>\n",
       "    <tr>\n",
       "      <th>15</th>\n",
       "      <td>15.0</td>\n",
       "      <td>hemo</td>\n",
       "      <td>Float</td>\n",
       "      <td>Flag for blood disorder during encounter</td>\n",
       "    </tr>\n",
       "    <tr>\n",
       "      <th>16</th>\n",
       "      <td>16.0</td>\n",
       "      <td>hematocritic</td>\n",
       "      <td>Float</td>\n",
       "      <td>Average hematocritic value during encounter (g...</td>\n",
       "    </tr>\n",
       "    <tr>\n",
       "      <th>17</th>\n",
       "      <td>17.0</td>\n",
       "      <td>neutrophils</td>\n",
       "      <td>Float</td>\n",
       "      <td>Average neutrophils value during encounter  (c...</td>\n",
       "    </tr>\n",
       "    <tr>\n",
       "      <th>18</th>\n",
       "      <td>18.0</td>\n",
       "      <td>sodium</td>\n",
       "      <td>Float</td>\n",
       "      <td>Average sodium value during encounter (mmol/L)</td>\n",
       "    </tr>\n",
       "    <tr>\n",
       "      <th>19</th>\n",
       "      <td>19.0</td>\n",
       "      <td>glucose</td>\n",
       "      <td>Float</td>\n",
       "      <td>Average sodium value during encounter (mmol/L)</td>\n",
       "    </tr>\n",
       "    <tr>\n",
       "      <th>20</th>\n",
       "      <td>20.0</td>\n",
       "      <td>bloodureanitro</td>\n",
       "      <td>Float</td>\n",
       "      <td>Average blood urea nitrogen value during encou...</td>\n",
       "    </tr>\n",
       "    <tr>\n",
       "      <th>21</th>\n",
       "      <td>21.0</td>\n",
       "      <td>creatinine</td>\n",
       "      <td>Float</td>\n",
       "      <td>Average creatinine value during encounter (mg/dL)</td>\n",
       "    </tr>\n",
       "    <tr>\n",
       "      <th>22</th>\n",
       "      <td>22.0</td>\n",
       "      <td>bmi</td>\n",
       "      <td>Float</td>\n",
       "      <td>Average BMI during encounter (kg/m2)</td>\n",
       "    </tr>\n",
       "    <tr>\n",
       "      <th>23</th>\n",
       "      <td>23.0</td>\n",
       "      <td>pulse</td>\n",
       "      <td>Float</td>\n",
       "      <td>Average pulse during encounter  (beats/m)</td>\n",
       "    </tr>\n",
       "    <tr>\n",
       "      <th>24</th>\n",
       "      <td>24.0</td>\n",
       "      <td>respiration</td>\n",
       "      <td>Float</td>\n",
       "      <td>Average respiration during encounter  (breaths...</td>\n",
       "    </tr>\n",
       "    <tr>\n",
       "      <th>25</th>\n",
       "      <td>25.0</td>\n",
       "      <td>secondarydiagnosisnonicd9</td>\n",
       "      <td>Integer</td>\n",
       "      <td>Flag for whether a non ICD 9 formatted diagnos...</td>\n",
       "    </tr>\n",
       "    <tr>\n",
       "      <th>26</th>\n",
       "      <td>26.0</td>\n",
       "      <td>discharged</td>\n",
       "      <td>String</td>\n",
       "      <td>Date of discharge</td>\n",
       "    </tr>\n",
       "    <tr>\n",
       "      <th>27</th>\n",
       "      <td>27.0</td>\n",
       "      <td>facid</td>\n",
       "      <td>Integer</td>\n",
       "      <td>Facility ID at which the encounter occurred</td>\n",
       "    </tr>\n",
       "    <tr>\n",
       "      <th>28</th>\n",
       "      <td>28.0</td>\n",
       "      <td>lengthofstay</td>\n",
       "      <td>Integer</td>\n",
       "      <td>Length of stay for the encounter</td>\n",
       "    </tr>\n",
       "  </tbody>\n",
       "</table>\n",
       "</div>"
      ],
      "text/plain": [
       "    Index                                       Data fields      Type  \\\n",
       "0     NaN                                      LengthOfStay       NaN   \n",
       "1     1.0                                               eid   Integer   \n",
       "2     2.0                                             vdate    String   \n",
       "3     3.0                                            rcount  Integer    \n",
       "4     4.0                                            gender    String   \n",
       "5     5.0                       dialysisrenalendstage          String   \n",
       "6     6.0                           asthma                     String   \n",
       "7     7.0                            irondef                   String   \n",
       "8     8.0                         pneum                        String   \n",
       "9     9.0                            substancedependence       String   \n",
       "10   10.0                       psychologicaldisordermajor     String   \n",
       "11   11.0                              depress                 String   \n",
       "12   12.0                        psychother                    String   \n",
       "13   13.0                      fibrosisandother                String   \n",
       "14   14.0                            malnutrition              String   \n",
       "15   15.0                                        hemo           Float   \n",
       "16   16.0                      hematocritic                     Float   \n",
       "17   17.0                          neutrophils                  Float   \n",
       "18   18.0                                          sodium       Float   \n",
       "19   19.0                         glucose                       Float   \n",
       "20   20.0                                bloodureanitro         Float   \n",
       "21   21.0                          creatinine                   Float   \n",
       "22   22.0                                      bmi              Float   \n",
       "23   23.0  pulse                                                Float   \n",
       "24   24.0                                     respiration       Float   \n",
       "25   25.0                   secondarydiagnosisnonicd9         Integer   \n",
       "26   26.0                       discharged                     String   \n",
       "27   27.0                        facid                        Integer   \n",
       "28   28.0                              lengthofstay           Integer   \n",
       "\n",
       "                                         Descriptions  \n",
       "0                                                 NaN  \n",
       "1                 Unique Id of the hospital admission  \n",
       "2                                          Visit date  \n",
       "3         Number of readmissions within last 180 days  \n",
       "4                       Gender of the patient\\nM or F  \n",
       "5             Flag for renal disease during encounter  \n",
       "6                    Flag for asthma during encounter  \n",
       "7           Flag for iron deficiency during encounter  \n",
       "8                 Flag for pneumonia during encounter  \n",
       "9      Flag for substance dependence during encounter  \n",
       "10  Flag for major psychological disorder during e...  \n",
       "11               Flag for depression during encounter  \n",
       "12  Flag for other psychological disorder during e...  \n",
       "13                 Flag for fibrosis during encounter  \n",
       "14            Flag for malnutrituion during encounter  \n",
       "15          Flag for blood disorder during encounter   \n",
       "16  Average hematocritic value during encounter (g...  \n",
       "17  Average neutrophils value during encounter  (c...  \n",
       "18     Average sodium value during encounter (mmol/L)  \n",
       "19     Average sodium value during encounter (mmol/L)  \n",
       "20  Average blood urea nitrogen value during encou...  \n",
       "21  Average creatinine value during encounter (mg/dL)  \n",
       "22               Average BMI during encounter (kg/m2)  \n",
       "23          Average pulse during encounter  (beats/m)  \n",
       "24  Average respiration during encounter  (breaths...  \n",
       "25  Flag for whether a non ICD 9 formatted diagnos...  \n",
       "26                                  Date of discharge  \n",
       "27        Facility ID at which the encounter occurred  \n",
       "28                  Length of stay for the encounter   "
      ]
     },
     "execution_count": 6,
     "metadata": {},
     "output_type": "execute_result"
    }
   ],
   "source": [
    "DICT"
   ]
  },
  {
   "cell_type": "code",
   "execution_count": 7,
   "metadata": {},
   "outputs": [
    {
     "data": {
      "text/html": [
       "<div>\n",
       "<style scoped>\n",
       "    .dataframe tbody tr th:only-of-type {\n",
       "        vertical-align: middle;\n",
       "    }\n",
       "\n",
       "    .dataframe tbody tr th {\n",
       "        vertical-align: top;\n",
       "    }\n",
       "\n",
       "    .dataframe thead th {\n",
       "        text-align: right;\n",
       "    }\n",
       "</style>\n",
       "<table border=\"1\" class=\"dataframe\">\n",
       "  <thead>\n",
       "    <tr style=\"text-align: right;\">\n",
       "      <th></th>\n",
       "      <th>Capacity</th>\n",
       "      <th>Id</th>\n",
       "      <th>Name</th>\n",
       "    </tr>\n",
       "  </thead>\n",
       "  <tbody>\n",
       "    <tr>\n",
       "      <th>0</th>\n",
       "      <td>30</td>\n",
       "      <td>C</td>\n",
       "      <td>General Medicine 3 South</td>\n",
       "    </tr>\n",
       "    <tr>\n",
       "      <th>1</th>\n",
       "      <td>95</td>\n",
       "      <td>E</td>\n",
       "      <td>Behavioral 1 East</td>\n",
       "    </tr>\n",
       "    <tr>\n",
       "      <th>2</th>\n",
       "      <td>75</td>\n",
       "      <td>A</td>\n",
       "      <td>General Medicine 3 West</td>\n",
       "    </tr>\n",
       "    <tr>\n",
       "      <th>3</th>\n",
       "      <td>80</td>\n",
       "      <td>B</td>\n",
       "      <td>Pulmonary 2 West</td>\n",
       "    </tr>\n",
       "    <tr>\n",
       "      <th>4</th>\n",
       "      <td>100</td>\n",
       "      <td>D</td>\n",
       "      <td>Geriatrics 2 East</td>\n",
       "    </tr>\n",
       "  </tbody>\n",
       "</table>\n",
       "</div>"
      ],
      "text/plain": [
       "   Capacity Id                      Name\n",
       "0        30  C  General Medicine 3 South\n",
       "1        95  E         Behavioral 1 East\n",
       "2        75  A   General Medicine 3 West\n",
       "3        80  B          Pulmonary 2 West\n",
       "4       100  D         Geriatrics 2 East"
      ]
     },
     "execution_count": 7,
     "metadata": {},
     "output_type": "execute_result"
    }
   ],
   "source": [
    "METADATA"
   ]
  },
  {
   "cell_type": "markdown",
   "metadata": {},
   "source": [
    "## Observasjoner hittil\n",
    "\n",
    "Det ser ut som at `LOS` er vår hovedkilde. `DICT` gir oss nyttig informasjon om features i `LOS`, mens `METADATA` har informasjon om de ulike avdelingene data er samlet fra. "
   ]
  },
  {
   "cell_type": "markdown",
   "metadata": {},
   "source": [
    "> **OBS:** Vi har endret litt på features i vår versjon av `LOS` i forhold til <a href=\"https://github.com/Microsoft/r-server-hospital-length-of-stay/raw/master/Data/LengthOfStay.csv\">orginalen</a>: <br> - Vi har slått sammen alle opphold på lengre enn 8 dager, <br> - Alle `rcount` markert som \"5+\" er satt til 5. "
   ]
  },
  {
   "cell_type": "markdown",
   "metadata": {},
   "source": [
    "# Plots og videre utforsking"
   ]
  },
  {
   "cell_type": "markdown",
   "metadata": {},
   "source": [
    "Hva er fordelingen av pasientopphold? "
   ]
  },
  {
   "cell_type": "code",
   "execution_count": 8,
   "metadata": {},
   "outputs": [
    {
     "data": {
      "text/plain": [
       "1              17979\n",
       "3              16068\n",
       "4              14822\n",
       "2              12825\n",
       "5              12116\n",
       "6              10362\n",
       "7               7263\n",
       "8               4652\n",
       "more than 8     3913\n",
       "Name: lengthofstay, dtype: int64"
      ]
     },
     "execution_count": 8,
     "metadata": {},
     "output_type": "execute_result"
    }
   ],
   "source": [
    "LOS_value_count = LOS['lengthofstay'].value_counts()\n",
    "LOS_value_count"
   ]
  },
  {
   "cell_type": "code",
   "execution_count": 9,
   "metadata": {},
   "outputs": [
    {
     "data": {
      "image/png": "[encoded data removed]",
      "text/plain": [
       "<Figure size 864x576 with 1 Axes>"
      ]
     },
     "metadata": {
      "needs_background": "light"
     },
     "output_type": "display_data"
    }
   ],
   "source": [
    "LOS_value_count.plot.barh(figsize=(12,8))\n",
    "plt.show()"
   ]
  },
  {
   "cell_type": "markdown",
   "metadata": {},
   "source": [
    "Vi ser at datasettet er ganske skjevt fordelt. De aller fleste opphold på sykehuset er korte. "
   ]
  },
  {
   "cell_type": "markdown",
   "metadata": {},
   "source": [
    "Hvordan er kjønnsfordelingen?"
   ]
  },
  {
   "cell_type": "code",
   "execution_count": 10,
   "metadata": {},
   "outputs": [
    {
     "data": {
      "image/png": "[encoded data removed]",
      "text/plain": [
       "<Figure size 432x288 with 1 Axes>"
      ]
     },
     "metadata": {
      "needs_background": "light"
     },
     "output_type": "display_data"
    }
   ],
   "source": [
    "gender_counts = LOS['gender'].value_counts()\n",
    "gender_counts.plot.bar()\n",
    "plt.show()"
   ]
  },
  {
   "cell_type": "markdown",
   "metadata": {},
   "source": [
    "Litt flere menn (0) enn kvinner (1). "
   ]
  },
  {
   "cell_type": "markdown",
   "metadata": {},
   "source": [
    "Hvor lenge oppholder de seg på sykehuset?"
   ]
  },
  {
   "cell_type": "code",
   "execution_count": 11,
   "metadata": {},
   "outputs": [],
   "source": [
    "# Vi konverterer først \"mer enn 8\" til tallet 9:\n",
    "LOS_tmp = LOS.copy()"
   ]
  },
  {
   "cell_type": "code",
   "execution_count": 12,
   "metadata": {},
   "outputs": [
    {
     "name": "stderr",
     "output_type": "stream",
     "text": [
      "C:\\Users\\alexa\\Anaconda3\\envs\\elmed219\\lib\\site-packages\\pandas\\core\\indexing.py:189: SettingWithCopyWarning: \n",
      "A value is trying to be set on a copy of a slice from a DataFrame\n",
      "\n",
      "See the caveats in the documentation: http://pandas.pydata.org/pandas-docs/stable/indexing.html#indexing-view-versus-copy\n",
      "  self._setitem_with_indexer(indexer, value)\n"
     ]
    },
    {
     "data": {
      "image/png": "[encoded data removed]",
      "text/plain": [
       "<Figure size 432x288 with 1 Axes>"
      ]
     },
     "metadata": {
      "needs_background": "light"
     },
     "output_type": "display_data"
    }
   ],
   "source": [
    "LOS_tmp['lengthofstay'].loc[LOS_tmp['lengthofstay'] == 'more than 8'] = 9 # Setter alle med \"mer enn 8\" til 9\n",
    "\n",
    "LOS_tmp['lengthofstay'] = LOS_tmp['lengthofstay'].astype(int) # Skift til heltall\n",
    "\n",
    "# Box plot:\n",
    "ax = sns.boxplot(x='gender', y='lengthofstay', data=LOS_tmp)"
   ]
  },
  {
   "cell_type": "markdown",
   "metadata": {},
   "source": [
    "## Korrelasjoner"
   ]
  },
  {
   "cell_type": "markdown",
   "metadata": {},
   "source": [
    "Hvordan korrelerer de numeriske features i datasettet til liggetiden?"
   ]
  },
  {
   "cell_type": "markdown",
   "metadata": {},
   "source": [
    "Her var beskrivelsen av features:"
   ]
  },
  {
   "cell_type": "code",
   "execution_count": 13,
   "metadata": {},
   "outputs": [
    {
     "data": {
      "text/html": [
       "<div>\n",
       "<style scoped>\n",
       "    .dataframe tbody tr th:only-of-type {\n",
       "        vertical-align: middle;\n",
       "    }\n",
       "\n",
       "    .dataframe tbody tr th {\n",
       "        vertical-align: top;\n",
       "    }\n",
       "\n",
       "    .dataframe thead th {\n",
       "        text-align: right;\n",
       "    }\n",
       "</style>\n",
       "<table border=\"1\" class=\"dataframe\">\n",
       "  <thead>\n",
       "    <tr style=\"text-align: right;\">\n",
       "      <th></th>\n",
       "      <th>Index</th>\n",
       "      <th>Data fields</th>\n",
       "      <th>Type</th>\n",
       "      <th>Descriptions</th>\n",
       "    </tr>\n",
       "  </thead>\n",
       "  <tbody>\n",
       "    <tr>\n",
       "      <th>0</th>\n",
       "      <td>NaN</td>\n",
       "      <td>LengthOfStay</td>\n",
       "      <td>NaN</td>\n",
       "      <td>NaN</td>\n",
       "    </tr>\n",
       "    <tr>\n",
       "      <th>1</th>\n",
       "      <td>1.0</td>\n",
       "      <td>eid</td>\n",
       "      <td>Integer</td>\n",
       "      <td>Unique Id of the hospital admission</td>\n",
       "    </tr>\n",
       "    <tr>\n",
       "      <th>2</th>\n",
       "      <td>2.0</td>\n",
       "      <td>vdate</td>\n",
       "      <td>String</td>\n",
       "      <td>Visit date</td>\n",
       "    </tr>\n",
       "    <tr>\n",
       "      <th>3</th>\n",
       "      <td>3.0</td>\n",
       "      <td>rcount</td>\n",
       "      <td>Integer</td>\n",
       "      <td>Number of readmissions within last 180 days</td>\n",
       "    </tr>\n",
       "    <tr>\n",
       "      <th>4</th>\n",
       "      <td>4.0</td>\n",
       "      <td>gender</td>\n",
       "      <td>String</td>\n",
       "      <td>Gender of the patient\\nM or F</td>\n",
       "    </tr>\n",
       "    <tr>\n",
       "      <th>5</th>\n",
       "      <td>5.0</td>\n",
       "      <td>dialysisrenalendstage</td>\n",
       "      <td>String</td>\n",
       "      <td>Flag for renal disease during encounter</td>\n",
       "    </tr>\n",
       "    <tr>\n",
       "      <th>6</th>\n",
       "      <td>6.0</td>\n",
       "      <td>asthma</td>\n",
       "      <td>String</td>\n",
       "      <td>Flag for asthma during encounter</td>\n",
       "    </tr>\n",
       "    <tr>\n",
       "      <th>7</th>\n",
       "      <td>7.0</td>\n",
       "      <td>irondef</td>\n",
       "      <td>String</td>\n",
       "      <td>Flag for iron deficiency during encounter</td>\n",
       "    </tr>\n",
       "    <tr>\n",
       "      <th>8</th>\n",
       "      <td>8.0</td>\n",
       "      <td>pneum</td>\n",
       "      <td>String</td>\n",
       "      <td>Flag for pneumonia during encounter</td>\n",
       "    </tr>\n",
       "    <tr>\n",
       "      <th>9</th>\n",
       "      <td>9.0</td>\n",
       "      <td>substancedependence</td>\n",
       "      <td>String</td>\n",
       "      <td>Flag for substance dependence during encounter</td>\n",
       "    </tr>\n",
       "    <tr>\n",
       "      <th>10</th>\n",
       "      <td>10.0</td>\n",
       "      <td>psychologicaldisordermajor</td>\n",
       "      <td>String</td>\n",
       "      <td>Flag for major psychological disorder during e...</td>\n",
       "    </tr>\n",
       "    <tr>\n",
       "      <th>11</th>\n",
       "      <td>11.0</td>\n",
       "      <td>depress</td>\n",
       "      <td>String</td>\n",
       "      <td>Flag for depression during encounter</td>\n",
       "    </tr>\n",
       "    <tr>\n",
       "      <th>12</th>\n",
       "      <td>12.0</td>\n",
       "      <td>psychother</td>\n",
       "      <td>String</td>\n",
       "      <td>Flag for other psychological disorder during e...</td>\n",
       "    </tr>\n",
       "    <tr>\n",
       "      <th>13</th>\n",
       "      <td>13.0</td>\n",
       "      <td>fibrosisandother</td>\n",
       "      <td>String</td>\n",
       "      <td>Flag for fibrosis during encounter</td>\n",
       "    </tr>\n",
       "    <tr>\n",
       "      <th>14</th>\n",
       "      <td>14.0</td>\n",
       "      <td>malnutrition</td>\n",
       "      <td>String</td>\n",
       "      <td>Flag for malnutrituion during encounter</td>\n",
       "    </tr>\n",
       "    <tr>\n",
       "      <th>15</th>\n",
       "      <td>15.0</td>\n",
       "      <td>hemo</td>\n",
       "      <td>Float</td>\n",
       "      <td>Flag for blood disorder during encounter</td>\n",
       "    </tr>\n",
       "    <tr>\n",
       "      <th>16</th>\n",
       "      <td>16.0</td>\n",
       "      <td>hematocritic</td>\n",
       "      <td>Float</td>\n",
       "      <td>Average hematocritic value during encounter (g...</td>\n",
       "    </tr>\n",
       "    <tr>\n",
       "      <th>17</th>\n",
       "      <td>17.0</td>\n",
       "      <td>neutrophils</td>\n",
       "      <td>Float</td>\n",
       "      <td>Average neutrophils value during encounter  (c...</td>\n",
       "    </tr>\n",
       "    <tr>\n",
       "      <th>18</th>\n",
       "      <td>18.0</td>\n",
       "      <td>sodium</td>\n",
       "      <td>Float</td>\n",
       "      <td>Average sodium value during encounter (mmol/L)</td>\n",
       "    </tr>\n",
       "    <tr>\n",
       "      <th>19</th>\n",
       "      <td>19.0</td>\n",
       "      <td>glucose</td>\n",
       "      <td>Float</td>\n",
       "      <td>Average sodium value during encounter (mmol/L)</td>\n",
       "    </tr>\n",
       "    <tr>\n",
       "      <th>20</th>\n",
       "      <td>20.0</td>\n",
       "      <td>bloodureanitro</td>\n",
       "      <td>Float</td>\n",
       "      <td>Average blood urea nitrogen value during encou...</td>\n",
       "    </tr>\n",
       "    <tr>\n",
       "      <th>21</th>\n",
       "      <td>21.0</td>\n",
       "      <td>creatinine</td>\n",
       "      <td>Float</td>\n",
       "      <td>Average creatinine value during encounter (mg/dL)</td>\n",
       "    </tr>\n",
       "    <tr>\n",
       "      <th>22</th>\n",
       "      <td>22.0</td>\n",
       "      <td>bmi</td>\n",
       "      <td>Float</td>\n",
       "      <td>Average BMI during encounter (kg/m2)</td>\n",
       "    </tr>\n",
       "    <tr>\n",
       "      <th>23</th>\n",
       "      <td>23.0</td>\n",
       "      <td>pulse</td>\n",
       "      <td>Float</td>\n",
       "      <td>Average pulse during encounter  (beats/m)</td>\n",
       "    </tr>\n",
       "    <tr>\n",
       "      <th>24</th>\n",
       "      <td>24.0</td>\n",
       "      <td>respiration</td>\n",
       "      <td>Float</td>\n",
       "      <td>Average respiration during encounter  (breaths...</td>\n",
       "    </tr>\n",
       "    <tr>\n",
       "      <th>25</th>\n",
       "      <td>25.0</td>\n",
       "      <td>secondarydiagnosisnonicd9</td>\n",
       "      <td>Integer</td>\n",
       "      <td>Flag for whether a non ICD 9 formatted diagnos...</td>\n",
       "    </tr>\n",
       "    <tr>\n",
       "      <th>26</th>\n",
       "      <td>26.0</td>\n",
       "      <td>discharged</td>\n",
       "      <td>String</td>\n",
       "      <td>Date of discharge</td>\n",
       "    </tr>\n",
       "    <tr>\n",
       "      <th>27</th>\n",
       "      <td>27.0</td>\n",
       "      <td>facid</td>\n",
       "      <td>Integer</td>\n",
       "      <td>Facility ID at which the encounter occurred</td>\n",
       "    </tr>\n",
       "    <tr>\n",
       "      <th>28</th>\n",
       "      <td>28.0</td>\n",
       "      <td>lengthofstay</td>\n",
       "      <td>Integer</td>\n",
       "      <td>Length of stay for the encounter</td>\n",
       "    </tr>\n",
       "  </tbody>\n",
       "</table>\n",
       "</div>"
      ],
      "text/plain": [
       "    Index                                       Data fields      Type  \\\n",
       "0     NaN                                      LengthOfStay       NaN   \n",
       "1     1.0                                               eid   Integer   \n",
       "2     2.0                                             vdate    String   \n",
       "3     3.0                                            rcount  Integer    \n",
       "4     4.0                                            gender    String   \n",
       "5     5.0                       dialysisrenalendstage          String   \n",
       "6     6.0                           asthma                     String   \n",
       "7     7.0                            irondef                   String   \n",
       "8     8.0                         pneum                        String   \n",
       "9     9.0                            substancedependence       String   \n",
       "10   10.0                       psychologicaldisordermajor     String   \n",
       "11   11.0                              depress                 String   \n",
       "12   12.0                        psychother                    String   \n",
       "13   13.0                      fibrosisandother                String   \n",
       "14   14.0                            malnutrition              String   \n",
       "15   15.0                                        hemo           Float   \n",
       "16   16.0                      hematocritic                     Float   \n",
       "17   17.0                          neutrophils                  Float   \n",
       "18   18.0                                          sodium       Float   \n",
       "19   19.0                         glucose                       Float   \n",
       "20   20.0                                bloodureanitro         Float   \n",
       "21   21.0                          creatinine                   Float   \n",
       "22   22.0                                      bmi              Float   \n",
       "23   23.0  pulse                                                Float   \n",
       "24   24.0                                     respiration       Float   \n",
       "25   25.0                   secondarydiagnosisnonicd9         Integer   \n",
       "26   26.0                       discharged                     String   \n",
       "27   27.0                        facid                        Integer   \n",
       "28   28.0                              lengthofstay           Integer   \n",
       "\n",
       "                                         Descriptions  \n",
       "0                                                 NaN  \n",
       "1                 Unique Id of the hospital admission  \n",
       "2                                          Visit date  \n",
       "3         Number of readmissions within last 180 days  \n",
       "4                       Gender of the patient\\nM or F  \n",
       "5             Flag for renal disease during encounter  \n",
       "6                    Flag for asthma during encounter  \n",
       "7           Flag for iron deficiency during encounter  \n",
       "8                 Flag for pneumonia during encounter  \n",
       "9      Flag for substance dependence during encounter  \n",
       "10  Flag for major psychological disorder during e...  \n",
       "11               Flag for depression during encounter  \n",
       "12  Flag for other psychological disorder during e...  \n",
       "13                 Flag for fibrosis during encounter  \n",
       "14            Flag for malnutrituion during encounter  \n",
       "15          Flag for blood disorder during encounter   \n",
       "16  Average hematocritic value during encounter (g...  \n",
       "17  Average neutrophils value during encounter  (c...  \n",
       "18     Average sodium value during encounter (mmol/L)  \n",
       "19     Average sodium value during encounter (mmol/L)  \n",
       "20  Average blood urea nitrogen value during encou...  \n",
       "21  Average creatinine value during encounter (mg/dL)  \n",
       "22               Average BMI during encounter (kg/m2)  \n",
       "23          Average pulse during encounter  (beats/m)  \n",
       "24  Average respiration during encounter  (breaths...  \n",
       "25  Flag for whether a non ICD 9 formatted diagnos...  \n",
       "26                                  Date of discharge  \n",
       "27        Facility ID at which the encounter occurred  \n",
       "28                  Length of stay for the encounter   "
      ]
     },
     "execution_count": 13,
     "metadata": {},
     "output_type": "execute_result"
    }
   ],
   "source": [
    "DICT"
   ]
  },
  {
   "cell_type": "markdown",
   "metadata": {},
   "source": [
    "Vi undersøker korrelasjonene med 'lengthofstay':"
   ]
  },
  {
   "cell_type": "code",
   "execution_count": 14,
   "metadata": {},
   "outputs": [
    {
     "data": {
      "text/plain": [
       "lengthofstay                  1.000000\n",
       "rcount                        0.752818\n",
       "facid                         0.363066\n",
       "psychologicaldisordermajor    0.289187\n",
       "hemo                          0.213832\n",
       "irondef                       0.192063\n",
       "psychother                    0.185655\n",
       "malnutrition                  0.169207\n",
       "dialysisrenalendstage         0.162927\n",
       "substancedependence           0.147174\n",
       "bloodureanitro                0.141912\n",
       "pneum                         0.132303\n",
       "depress                       0.122732\n",
       "asthma                        0.084388\n",
       "gender                        0.068686\n",
       "fibrosisandother              0.060492\n",
       "pulse                         0.006616\n",
       "secondarydiagnosisnonicd9     0.006339\n",
       "eid                           0.001203\n",
       "bmi                          -0.000181\n",
       "glucose                      -0.002465\n",
       "sodium                       -0.002510\n",
       "creatinine                   -0.004156\n",
       "neutrophils                  -0.011813\n",
       "respiration                  -0.019343\n",
       "hematocrit                   -0.059662\n",
       "Name: lengthofstay, dtype: float64"
      ]
     },
     "execution_count": 14,
     "metadata": {},
     "output_type": "execute_result"
    }
   ],
   "source": [
    "correlation_matrix = LOS_tmp.corr()\n",
    "correlation_matrix['lengthofstay'].sort_values(ascending=False)"
   ]
  },
  {
   "cell_type": "markdown",
   "metadata": {},
   "source": [
    "## Observasjoner"
   ]
  },
  {
   "cell_type": "markdown",
   "metadata": {},
   "source": [
    "- `rcount` er svært korrelert med liggetid. Antall besøk i løpet av siste 180 dager forteller mye om forventet liggetid. \n",
    "- `facid` har også relativt høy korrelasjon. Det kan skyldes at de ulike avdelingene har ulik kapasitet og roller med hensyn på befolkningen de tjener."
   ]
  },
  {
   "cell_type": "markdown",
   "metadata": {},
   "source": [
    "De fleste har ikke vært på sykehuset tidligere i løpet av siste halvår, men en god del har hyppige besøk:"
   ]
  },
  {
   "cell_type": "code",
   "execution_count": 15,
   "metadata": {},
   "outputs": [
    {
     "data": {
      "image/png": "[encoded data removed]",
      "text/plain": [
       "<Figure size 432x288 with 1 Axes>"
      ]
     },
     "metadata": {
      "needs_background": "light"
     },
     "output_type": "display_data"
    }
   ],
   "source": [
    "LOS['rcount'].value_counts().plot.bar()\n",
    "plt.show()"
   ]
  },
  {
   "cell_type": "markdown",
   "metadata": {},
   "source": [
    "Kapasiteten til de ulike avdelingene varierer:"
   ]
  },
  {
   "cell_type": "code",
   "execution_count": 16,
   "metadata": {},
   "outputs": [
    {
     "data": {
      "text/html": [
       "<div>\n",
       "<style scoped>\n",
       "    .dataframe tbody tr th:only-of-type {\n",
       "        vertical-align: middle;\n",
       "    }\n",
       "\n",
       "    .dataframe tbody tr th {\n",
       "        vertical-align: top;\n",
       "    }\n",
       "\n",
       "    .dataframe thead th {\n",
       "        text-align: right;\n",
       "    }\n",
       "</style>\n",
       "<table border=\"1\" class=\"dataframe\">\n",
       "  <thead>\n",
       "    <tr style=\"text-align: right;\">\n",
       "      <th></th>\n",
       "      <th>Capacity</th>\n",
       "      <th>Id</th>\n",
       "      <th>Name</th>\n",
       "    </tr>\n",
       "  </thead>\n",
       "  <tbody>\n",
       "    <tr>\n",
       "      <th>0</th>\n",
       "      <td>30</td>\n",
       "      <td>C</td>\n",
       "      <td>General Medicine 3 South</td>\n",
       "    </tr>\n",
       "    <tr>\n",
       "      <th>1</th>\n",
       "      <td>95</td>\n",
       "      <td>E</td>\n",
       "      <td>Behavioral 1 East</td>\n",
       "    </tr>\n",
       "    <tr>\n",
       "      <th>2</th>\n",
       "      <td>75</td>\n",
       "      <td>A</td>\n",
       "      <td>General Medicine 3 West</td>\n",
       "    </tr>\n",
       "    <tr>\n",
       "      <th>3</th>\n",
       "      <td>80</td>\n",
       "      <td>B</td>\n",
       "      <td>Pulmonary 2 West</td>\n",
       "    </tr>\n",
       "    <tr>\n",
       "      <th>4</th>\n",
       "      <td>100</td>\n",
       "      <td>D</td>\n",
       "      <td>Geriatrics 2 East</td>\n",
       "    </tr>\n",
       "  </tbody>\n",
       "</table>\n",
       "</div>"
      ],
      "text/plain": [
       "   Capacity Id                      Name\n",
       "0        30  C  General Medicine 3 South\n",
       "1        95  E         Behavioral 1 East\n",
       "2        75  A   General Medicine 3 West\n",
       "3        80  B          Pulmonary 2 West\n",
       "4       100  D         Geriatrics 2 East"
      ]
     },
     "execution_count": 16,
     "metadata": {},
     "output_type": "execute_result"
    }
   ],
   "source": [
    "METADATA"
   ]
  },
  {
   "cell_type": "code",
   "execution_count": 17,
   "metadata": {},
   "outputs": [
    {
     "data": {
      "image/png": "[encoded data removed]",
      "text/plain": [
       "<Figure size 432x288 with 1 Axes>"
      ]
     },
     "metadata": {
      "needs_background": "light"
     },
     "output_type": "display_data"
    }
   ],
   "source": [
    "METADATA.plot(x='Id', y='Capacity', kind='bar')\n",
    "plt.show()"
   ]
  },
  {
   "cell_type": "markdown",
   "metadata": {},
   "source": [
    "# Prediksjon"
   ]
  },
  {
   "cell_type": "markdown",
   "metadata": {},
   "source": [
    "Vi velger å angripe problemet med å predikere liggetid som et klassifikasjonsproblem: altså, \n",
    "> Er forventet liggetid 0, 1, 2, 3, 4, 5, 6, 7, 8, eller mer enn 8 dager?"
   ]
  },
  {
   "cell_type": "markdown",
   "metadata": {},
   "source": [
    "Det er også mulig å sette opp en regresjonsmodell for dette problemet. Du må gjerne forsøke det!"
   ]
  },
  {
   "cell_type": "code",
   "execution_count": 18,
   "metadata": {},
   "outputs": [],
   "source": [
    "X = LOS.drop('lengthofstay', axis=1)\n",
    "y = LOS['lengthofstay']"
   ]
  },
  {
   "cell_type": "markdown",
   "metadata": {},
   "source": [
    "## Hold av et testsett til å evaluere modellen"
   ]
  },
  {
   "cell_type": "markdown",
   "metadata": {},
   "source": [
    "For å simulere den relle situasjonen der vår modell skal brukes til å predikere liggetid i det en ny pasient kommer inn holder vi av et testdatasett for å evaluere modellen. Dette er til for å simulere den reelle situasjonen. "
   ]
  },
  {
   "cell_type": "code",
   "execution_count": 19,
   "metadata": {},
   "outputs": [],
   "source": [
    "from sklearn.model_selection import train_test_split"
   ]
  },
  {
   "cell_type": "markdown",
   "metadata": {},
   "source": [
    "Vi bruker stratifisert splitting (`stratify=y` nedenfor) for å sikre at fordelingen av liggetider blir den samme i treningsdata som i testdata. "
   ]
  },
  {
   "cell_type": "code",
   "execution_count": 20,
   "metadata": {},
   "outputs": [],
   "source": [
    "X_train, X_test, y_train, y_test = train_test_split(X, y, stratify=y, random_state=42)"
   ]
  },
  {
   "cell_type": "markdown",
   "metadata": {},
   "source": [
    "## Velg modell"
   ]
  },
  {
   "cell_type": "markdown",
   "metadata": {},
   "source": [
    "Vi forsøker en random forest klassifikator:"
   ]
  },
  {
   "cell_type": "code",
   "execution_count": 21,
   "metadata": {},
   "outputs": [],
   "source": [
    "from sklearn.ensemble import RandomForestClassifier"
   ]
  },
  {
   "cell_type": "code",
   "execution_count": 22,
   "metadata": {},
   "outputs": [],
   "source": [
    "rf = RandomForestClassifier(n_estimators=100, random_state=42, n_jobs=-1) \n",
    "# n_jobs=-1 for å bruke alle tilgjenglige CPUer på maskinen"
   ]
  },
  {
   "cell_type": "markdown",
   "metadata": {},
   "source": [
    "Vi trener modellen:"
   ]
  },
  {
   "cell_type": "code",
   "execution_count": 23,
   "metadata": {},
   "outputs": [
    {
     "data": {
      "text/plain": [
       "RandomForestClassifier(bootstrap=True, class_weight=None, criterion='gini',\n",
       "            max_depth=None, max_features='auto', max_leaf_nodes=None,\n",
       "            min_impurity_decrease=0.0, min_impurity_split=None,\n",
       "            min_samples_leaf=1, min_samples_split=2,\n",
       "            min_weight_fraction_leaf=0.0, n_estimators=100, n_jobs=-1,\n",
       "            oob_score=False, random_state=42, verbose=0, warm_start=False)"
      ]
     },
     "execution_count": 23,
     "metadata": {},
     "output_type": "execute_result"
    }
   ],
   "source": [
    "rf.fit(X_train, y_train)"
   ]
  },
  {
   "cell_type": "markdown",
   "metadata": {},
   "source": [
    "...og beregner accuracy på test-data:"
   ]
  },
  {
   "cell_type": "code",
   "execution_count": 24,
   "metadata": {},
   "outputs": [],
   "source": [
    "from sklearn.metrics import accuracy_score"
   ]
  },
  {
   "cell_type": "code",
   "execution_count": 25,
   "metadata": {},
   "outputs": [],
   "source": [
    "y_pred = rf.predict(X_test)"
   ]
  },
  {
   "cell_type": "code",
   "execution_count": 26,
   "metadata": {},
   "outputs": [
    {
     "data": {
      "text/plain": [
       "0.66676"
      ]
     },
     "execution_count": 26,
     "metadata": {},
     "output_type": "execute_result"
    }
   ],
   "source": [
    "accuracy_score(y_test, y_pred)"
   ]
  },
  {
   "cell_type": "markdown",
   "metadata": {},
   "source": [
    "Vi predikerer altså liggetiden med ca. 67% nøyaktighet. "
   ]
  },
  {
   "cell_type": "markdown",
   "metadata": {},
   "source": [
    "# Evaluering av resultatet"
   ]
  },
  {
   "cell_type": "markdown",
   "metadata": {},
   "source": [
    "Er dette en god nøyaktighet? Hvilke features bruker modellen til sine prediksjoner?"
   ]
  },
  {
   "cell_type": "markdown",
   "metadata": {},
   "source": [
    "## Forvirringsmatrise"
   ]
  },
  {
   "cell_type": "markdown",
   "metadata": {},
   "source": [
    "Som vanlig vil forvirringsmatriser fortelle oss mye om en klassifikators ytelse."
   ]
  },
  {
   "cell_type": "code",
   "execution_count": 27,
   "metadata": {},
   "outputs": [],
   "source": [
    "from sklearn.metrics import confusion_matrix\n",
    "cm = confusion_matrix(y_test, y_pred)"
   ]
  },
  {
   "cell_type": "code",
   "execution_count": 28,
   "metadata": {},
   "outputs": [],
   "source": [
    "from utils import plot_confusion_matrix"
   ]
  },
  {
   "cell_type": "code",
   "execution_count": 29,
   "metadata": {},
   "outputs": [
    {
     "data": {
      "image/png": "[encoded data removed]",
      "text/plain": [
       "<Figure size 864x720 with 1 Axes>"
      ]
     },
     "metadata": {
      "needs_background": "light"
     },
     "output_type": "display_data"
    }
   ],
   "source": [
    "fig, ax = plt.subplots(figsize=(12,10))\n",
    "_ = plot_confusion_matrix(cm, classes=np.unique(y_test), ax=ax)"
   ]
  },
  {
   "cell_type": "markdown",
   "metadata": {},
   "source": [
    "## Feature importance"
   ]
  },
  {
   "cell_type": "code",
   "execution_count": 30,
   "metadata": {},
   "outputs": [
    {
     "name": "stdout",
     "output_type": "stream",
     "text": [
      "rcount: 0.22\n",
      "bmi: 0.08\n",
      "creatinine: 0.08\n",
      "glucose: 0.08\n",
      "sodium: 0.08\n",
      "pulse: 0.07\n",
      "hematocrit: 0.07\n",
      "neutrophils: 0.06\n",
      "eid: 0.05\n",
      "facid: 0.04\n",
      "respiration: 0.04\n",
      "bloodureanitro: 0.04\n",
      "secondarydiagnosisnonicd9: 0.03\n",
      "psychologicaldisordermajor: 0.02\n",
      "hemo: 0.01\n",
      "gender: 0.01\n",
      "irondef: 0.01\n",
      "substancedependence: 0.01\n",
      "dialysisrenalendstage: 0.01\n",
      "depress: 0.01\n",
      "asthma: 0.0\n",
      "pneum: 0.0\n",
      "malnutrition: 0.0\n",
      "psychother: 0.0\n",
      "fibrosisandother: 0.0\n"
     ]
    }
   ],
   "source": [
    "importances = rf.feature_importances_\n",
    "# Find index of those with highest importance, sorted from largest to smallest:\n",
    "indices = np.argsort(importances)[::-1]\n",
    "for f in range(X.shape[1]): \n",
    "    print(f'{X.columns[indices[f]]}: {np.round(importances[indices[f]],2)}')"
   ]
  },
  {
   "cell_type": "markdown",
   "metadata": {},
   "source": [
    "Vi ser at modellen lener seg veldig mye på `rcount`, altså antall ganger personen har vært på sykehuset siste 180 dager.. Dette er ikke overraskende hvis vi husker tilbake til korrelasjonene vi undersøkte tidligere. Mer om det etterpå."
   ]
  },
  {
   "cell_type": "markdown",
   "metadata": {},
   "source": [
    "Som vi husker fra `ELMED219-ML-1-Enkle_eksempler.ipynb` bør en ikke stole for mye på feature importances i random forest-modeller. Det er bedre å bruke **permutation importance**"
   ]
  },
  {
   "cell_type": "markdown",
   "metadata": {},
   "source": [
    "## Permutation importance"
   ]
  },
  {
   "cell_type": "code",
   "execution_count": 31,
   "metadata": {},
   "outputs": [],
   "source": [
    "import eli5\n",
    "from eli5.sklearn import PermutationImportance"
   ]
  },
  {
   "cell_type": "code",
   "execution_count": 32,
   "metadata": {},
   "outputs": [],
   "source": [
    "perm = PermutationImportance(rf, random_state=42).fit(X_test, y_test)"
   ]
  },
  {
   "cell_type": "code",
   "execution_count": 33,
   "metadata": {},
   "outputs": [
    {
     "data": {
      "text/html": [
       "\n",
       "    <style>\n",
       "    table.eli5-weights tr:hover {\n",
       "        filter: brightness(85%);\n",
       "    }\n",
       "</style>\n",
       "\n",
       "\n",
       "\n",
       "    \n",
       "\n",
       "    \n",
       "\n",
       "    \n",
       "\n",
       "    \n",
       "\n",
       "    \n",
       "\n",
       "    \n",
       "\n",
       "\n",
       "    \n",
       "\n",
       "    \n",
       "\n",
       "    \n",
       "\n",
       "    \n",
       "\n",
       "    \n",
       "\n",
       "    \n",
       "\n",
       "\n",
       "    \n",
       "\n",
       "    \n",
       "\n",
       "    \n",
       "\n",
       "    \n",
       "\n",
       "    \n",
       "        <table class=\"eli5-weights eli5-feature-importances\" style=\"border-collapse: collapse; border: none; margin-top: 0em; table-layout: auto;\">\n",
       "    <thead>\n",
       "    <tr style=\"border: none;\">\n",
       "        <th style=\"padding: 0 1em 0 0.5em; text-align: right; border: none;\">Weight</th>\n",
       "        <th style=\"padding: 0 0.5em 0 0.5em; text-align: left; border: none;\">Feature</th>\n",
       "    </tr>\n",
       "    </thead>\n",
       "    <tbody>\n",
       "    \n",
       "        <tr style=\"background-color: hsl(120, 100.00%, 80.00%); border: none;\">\n",
       "            <td style=\"padding: 0 1em 0 0.5em; text-align: right; border: none;\">\n",
       "                0.3913\n",
       "                \n",
       "                    &plusmn; 0.0037\n",
       "                \n",
       "            </td>\n",
       "            <td style=\"padding: 0 0.5em 0 0.5em; text-align: left; border: none;\">\n",
       "                rcount\n",
       "            </td>\n",
       "        </tr>\n",
       "    \n",
       "        <tr style=\"background-color: hsl(120, 100.00%, 91.79%); border: none;\">\n",
       "            <td style=\"padding: 0 1em 0 0.5em; text-align: right; border: none;\">\n",
       "                0.1097\n",
       "                \n",
       "                    &plusmn; 0.0028\n",
       "                \n",
       "            </td>\n",
       "            <td style=\"padding: 0 0.5em 0 0.5em; text-align: left; border: none;\">\n",
       "                psychologicaldisordermajor\n",
       "            </td>\n",
       "        </tr>\n",
       "    \n",
       "        <tr style=\"background-color: hsl(120, 100.00%, 93.58%); border: none;\">\n",
       "            <td style=\"padding: 0 1em 0 0.5em; text-align: right; border: none;\">\n",
       "                0.0772\n",
       "                \n",
       "                    &plusmn; 0.0041\n",
       "                \n",
       "            </td>\n",
       "            <td style=\"padding: 0 0.5em 0 0.5em; text-align: left; border: none;\">\n",
       "                facid\n",
       "            </td>\n",
       "        </tr>\n",
       "    \n",
       "        <tr style=\"background-color: hsl(120, 100.00%, 93.84%); border: none;\">\n",
       "            <td style=\"padding: 0 1em 0 0.5em; text-align: right; border: none;\">\n",
       "                0.0728\n",
       "                \n",
       "                    &plusmn; 0.0038\n",
       "                \n",
       "            </td>\n",
       "            <td style=\"padding: 0 0.5em 0 0.5em; text-align: left; border: none;\">\n",
       "                hematocrit\n",
       "            </td>\n",
       "        </tr>\n",
       "    \n",
       "        <tr style=\"background-color: hsl(120, 100.00%, 94.48%); border: none;\">\n",
       "            <td style=\"padding: 0 1em 0 0.5em; text-align: right; border: none;\">\n",
       "                0.0622\n",
       "                \n",
       "                    &plusmn; 0.0031\n",
       "                \n",
       "            </td>\n",
       "            <td style=\"padding: 0 0.5em 0 0.5em; text-align: left; border: none;\">\n",
       "                bmi\n",
       "            </td>\n",
       "        </tr>\n",
       "    \n",
       "        <tr style=\"background-color: hsl(120, 100.00%, 94.67%); border: none;\">\n",
       "            <td style=\"padding: 0 1em 0 0.5em; text-align: right; border: none;\">\n",
       "                0.0592\n",
       "                \n",
       "                    &plusmn; 0.0036\n",
       "                \n",
       "            </td>\n",
       "            <td style=\"padding: 0 0.5em 0 0.5em; text-align: left; border: none;\">\n",
       "                creatinine\n",
       "            </td>\n",
       "        </tr>\n",
       "    \n",
       "        <tr style=\"background-color: hsl(120, 100.00%, 94.85%); border: none;\">\n",
       "            <td style=\"padding: 0 1em 0 0.5em; text-align: right; border: none;\">\n",
       "                0.0564\n",
       "                \n",
       "                    &plusmn; 0.0033\n",
       "                \n",
       "            </td>\n",
       "            <td style=\"padding: 0 0.5em 0 0.5em; text-align: left; border: none;\">\n",
       "                sodium\n",
       "            </td>\n",
       "        </tr>\n",
       "    \n",
       "        <tr style=\"background-color: hsl(120, 100.00%, 94.95%); border: none;\">\n",
       "            <td style=\"padding: 0 1em 0 0.5em; text-align: right; border: none;\">\n",
       "                0.0547\n",
       "                \n",
       "                    &plusmn; 0.0013\n",
       "                \n",
       "            </td>\n",
       "            <td style=\"padding: 0 0.5em 0 0.5em; text-align: left; border: none;\">\n",
       "                glucose\n",
       "            </td>\n",
       "        </tr>\n",
       "    \n",
       "        <tr style=\"background-color: hsl(120, 100.00%, 95.10%); border: none;\">\n",
       "            <td style=\"padding: 0 1em 0 0.5em; text-align: right; border: none;\">\n",
       "                0.0524\n",
       "                \n",
       "                    &plusmn; 0.0028\n",
       "                \n",
       "            </td>\n",
       "            <td style=\"padding: 0 0.5em 0 0.5em; text-align: left; border: none;\">\n",
       "                pulse\n",
       "            </td>\n",
       "        </tr>\n",
       "    \n",
       "        <tr style=\"background-color: hsl(120, 100.00%, 95.56%); border: none;\">\n",
       "            <td style=\"padding: 0 1em 0 0.5em; text-align: right; border: none;\">\n",
       "                0.0456\n",
       "                \n",
       "                    &plusmn; 0.0023\n",
       "                \n",
       "            </td>\n",
       "            <td style=\"padding: 0 0.5em 0 0.5em; text-align: left; border: none;\">\n",
       "                respiration\n",
       "            </td>\n",
       "        </tr>\n",
       "    \n",
       "        <tr style=\"background-color: hsl(120, 100.00%, 95.90%); border: none;\">\n",
       "            <td style=\"padding: 0 1em 0 0.5em; text-align: right; border: none;\">\n",
       "                0.0407\n",
       "                \n",
       "                    &plusmn; 0.0012\n",
       "                \n",
       "            </td>\n",
       "            <td style=\"padding: 0 0.5em 0 0.5em; text-align: left; border: none;\">\n",
       "                hemo\n",
       "            </td>\n",
       "        </tr>\n",
       "    \n",
       "        <tr style=\"background-color: hsl(120, 100.00%, 97.15%); border: none;\">\n",
       "            <td style=\"padding: 0 1em 0 0.5em; text-align: right; border: none;\">\n",
       "                0.0242\n",
       "                \n",
       "                    &plusmn; 0.0016\n",
       "                \n",
       "            </td>\n",
       "            <td style=\"padding: 0 0.5em 0 0.5em; text-align: left; border: none;\">\n",
       "                neutrophils\n",
       "            </td>\n",
       "        </tr>\n",
       "    \n",
       "        <tr style=\"background-color: hsl(120, 100.00%, 97.22%); border: none;\">\n",
       "            <td style=\"padding: 0 1em 0 0.5em; text-align: right; border: none;\">\n",
       "                0.0234\n",
       "                \n",
       "                    &plusmn; 0.0006\n",
       "                \n",
       "            </td>\n",
       "            <td style=\"padding: 0 0.5em 0 0.5em; text-align: left; border: none;\">\n",
       "                irondef\n",
       "            </td>\n",
       "        </tr>\n",
       "    \n",
       "        <tr style=\"background-color: hsl(120, 100.00%, 97.60%); border: none;\">\n",
       "            <td style=\"padding: 0 1em 0 0.5em; text-align: right; border: none;\">\n",
       "                0.0190\n",
       "                \n",
       "                    &plusmn; 0.0009\n",
       "                \n",
       "            </td>\n",
       "            <td style=\"padding: 0 0.5em 0 0.5em; text-align: left; border: none;\">\n",
       "                substancedependence\n",
       "            </td>\n",
       "        </tr>\n",
       "    \n",
       "        <tr style=\"background-color: hsl(120, 100.00%, 97.83%); border: none;\">\n",
       "            <td style=\"padding: 0 1em 0 0.5em; text-align: right; border: none;\">\n",
       "                0.0164\n",
       "                \n",
       "                    &plusmn; 0.0029\n",
       "                \n",
       "            </td>\n",
       "            <td style=\"padding: 0 0.5em 0 0.5em; text-align: left; border: none;\">\n",
       "                bloodureanitro\n",
       "            </td>\n",
       "        </tr>\n",
       "    \n",
       "        <tr style=\"background-color: hsl(120, 100.00%, 98.30%); border: none;\">\n",
       "            <td style=\"padding: 0 1em 0 0.5em; text-align: right; border: none;\">\n",
       "                0.0116\n",
       "                \n",
       "                    &plusmn; 0.0006\n",
       "                \n",
       "            </td>\n",
       "            <td style=\"padding: 0 0.5em 0 0.5em; text-align: left; border: none;\">\n",
       "                depress\n",
       "            </td>\n",
       "        </tr>\n",
       "    \n",
       "        <tr style=\"background-color: hsl(120, 100.00%, 98.47%); border: none;\">\n",
       "            <td style=\"padding: 0 1em 0 0.5em; text-align: right; border: none;\">\n",
       "                0.0099\n",
       "                \n",
       "                    &plusmn; 0.0010\n",
       "                \n",
       "            </td>\n",
       "            <td style=\"padding: 0 0.5em 0 0.5em; text-align: left; border: none;\">\n",
       "                dialysisrenalendstage\n",
       "            </td>\n",
       "        </tr>\n",
       "    \n",
       "        <tr style=\"background-color: hsl(120, 100.00%, 98.55%); border: none;\">\n",
       "            <td style=\"padding: 0 1em 0 0.5em; text-align: right; border: none;\">\n",
       "                0.0092\n",
       "                \n",
       "                    &plusmn; 0.0007\n",
       "                \n",
       "            </td>\n",
       "            <td style=\"padding: 0 0.5em 0 0.5em; text-align: left; border: none;\">\n",
       "                asthma\n",
       "            </td>\n",
       "        </tr>\n",
       "    \n",
       "        <tr style=\"background-color: hsl(120, 100.00%, 98.97%); border: none;\">\n",
       "            <td style=\"padding: 0 1em 0 0.5em; text-align: right; border: none;\">\n",
       "                0.0056\n",
       "                \n",
       "                    &plusmn; 0.0009\n",
       "                \n",
       "            </td>\n",
       "            <td style=\"padding: 0 0.5em 0 0.5em; text-align: left; border: none;\">\n",
       "                malnutrition\n",
       "            </td>\n",
       "        </tr>\n",
       "    \n",
       "        <tr style=\"background-color: hsl(120, 100.00%, 99.12%); border: none;\">\n",
       "            <td style=\"padding: 0 1em 0 0.5em; text-align: right; border: none;\">\n",
       "                0.0045\n",
       "                \n",
       "                    &plusmn; 0.0009\n",
       "                \n",
       "            </td>\n",
       "            <td style=\"padding: 0 0.5em 0 0.5em; text-align: left; border: none;\">\n",
       "                pneum\n",
       "            </td>\n",
       "        </tr>\n",
       "    \n",
       "    \n",
       "        \n",
       "            <tr style=\"background-color: hsl(120, 100.00%, 99.12%); border: none;\">\n",
       "                <td colspan=\"2\" style=\"padding: 0 0.5em 0 0.5em; text-align: center; border: none; white-space: nowrap;\">\n",
       "                    <i>&hellip; 5 more &hellip;</i>\n",
       "                </td>\n",
       "            </tr>\n",
       "        \n",
       "    \n",
       "    </tbody>\n",
       "</table>\n",
       "    \n",
       "\n",
       "    \n",
       "\n",
       "\n",
       "    \n",
       "\n",
       "    \n",
       "\n",
       "    \n",
       "\n",
       "    \n",
       "\n",
       "    \n",
       "\n",
       "    \n",
       "\n",
       "\n",
       "\n"
      ],
      "text/plain": [
       "<IPython.core.display.HTML object>"
      ]
     },
     "execution_count": 33,
     "metadata": {},
     "output_type": "execute_result"
    }
   ],
   "source": [
    "eli5.show_weights(perm, feature_names = X_test.columns.tolist())"
   ]
  },
  {
   "cell_type": "markdown",
   "metadata": {},
   "source": [
    "Vi ser også her at modellen bruker `rcount` som sin viktigste feature, med god margin. "
   ]
  },
  {
   "cell_type": "markdown",
   "metadata": {},
   "source": [
    "> **Din tur!** En hypotese om hvorfor `psychologicaldisordermajor` havner såpass høyt oppe er at personer med dette flagget satt til True er spesielle. Blant annet kan det tenkes at de ofte ligger på avdelingen \"Behavioral\". Undersøk dette. Undersøk gjerne også andre hypoteser du måtte komme på. "
   ]
  },
  {
   "cell_type": "markdown",
   "metadata": {},
   "source": [
    "Et naturlig spørsmål: er det slik at om antall besøk øker, så øker også forventet liggetid? Eller motsatt? Eller er det en mer komplisert sammenheng? \n",
    "\n",
    "Dette kan vi (til dels) undersøke ved å bruke våre **partial dependence plots**, som også ble innført i `ELMED219-ML-1-Enkle_eksempler.ipynb`."
   ]
  },
  {
   "cell_type": "markdown",
   "metadata": {},
   "source": [
    "## Partial dependence plots"
   ]
  },
  {
   "cell_type": "code",
   "execution_count": 34,
   "metadata": {},
   "outputs": [],
   "source": [
    "from pdpbox import pdp"
   ]
  },
  {
   "cell_type": "code",
   "execution_count": 35,
   "metadata": {},
   "outputs": [
    {
     "data": {
      "image/png": "[encoded data removed]",
      "text/plain": [
       "<Figure size 1080x1080 with 10 Axes>"
      ]
     },
     "metadata": {
      "needs_background": "light"
     },
     "output_type": "display_data"
    }
   ],
   "source": [
    "pdp_goals = pdp.pdp_isolate(model=rf, dataset=X_test, model_features=X_test.columns.tolist(), feature='rcount', n_jobs=-1)\n",
    "pdp.pdp_plot(pdp_goals, 'rcount', ncols=3)\n",
    "plt.show()"
   ]
  },
  {
   "cell_type": "markdown",
   "metadata": {},
   "source": [
    "Vi ser at for de korte oppholdene øker ikke forventet antall dager med antall sykehusbesøk. For oppholdene på 6 dager eller mer er det derimot en slik sammenheng. "
   ]
  },
  {
   "cell_type": "markdown",
   "metadata": {},
   "source": [
    "> **Din tur!** Hva slags lidelser (av de som er registrert i datasettet vårt) karakteriserer pasienter som har høy `rcount`?"
   ]
  },
  {
   "cell_type": "markdown",
   "metadata": {},
   "source": [
    "# Feature engineering"
   ]
  },
  {
   "cell_type": "markdown",
   "metadata": {},
   "source": [
    "Vi har observert at visse features i datasettet er viktigere enn andre for vår modell. Noen features beskriver pasientene på enn mer *hensiktsmessig* måte enn andre. Det vil si, med høyere verdi for vår modells prediksjoner av liggetid. \n",
    "\n",
    "> Men det er ingenting som tilsier at dette er de *beste* mulige features for pasientene! "
   ]
  },
  {
   "cell_type": "markdown",
   "metadata": {},
   "source": [
    "En av de aller viktigste delene av maskinlæring (men også svært undervurdert i mer «teoretiske» vinklinger på feltet) er såkalt **feature engineering**. \n",
    "\n",
    "Maskinlæring handler i bunn og grunn om **å tilnærme funksjoner**. En ønsker å finne en funksjon som er så nært som mulig *fasit-funksjonen*: den som sender mengden av features til en instans til korrekt output. Det vil si, til korrekt klasse om klassifikasjon, til korrekt verdi om regresjon. \n",
    "\n",
    "> Jo mer *komplisert* fasit-funksjonen er jo vanskeligere er det for maskinlæringsmodellen å tilnærme seg denne. \n",
    "\n",
    "Ved å beskrive rådata med nye, bedre egnede features kan en gjøre fasit-funksjonen mindre komplisert. Som et ekstremt eksempel: om vi hadde lagt til innleggingsdato og utskrivningsdato til hver pasient som features i vårt datasett hadde fasitfunksjonen vært veldig enkel: utskrivningsdato minus innleggingsdato er lik antall liggedøgn. \n",
    "\n",
    "Det er stort handlingsrom mellom å gjøre ingenting og å rett og slett legge til fasit som en feature (noe som ikke er nyttig)!\n",
    "\n",
    "Det aller beste er om man kan justere på hvordan datainnsamlingen er gjort. Da kan en legge til helt nye features som en tror kan være nyttige for modelleringen (f.eks. legge til alder som en feature i våre data). \n",
    "\n",
    "Hvis man ikke kan endre på hvilke data som er samlet inn kan man tenke følgende: (i) hente inn eksterne features (f.eks. om vi hadde hatt personnummeret til pasientene kunne vi slått dette opp for å finne mer informasjon), eller (ii) lage nye features ved å kombinere de vi har. "
   ]
  },
  {
   "cell_type": "markdown",
   "metadata": {},
   "source": [
    "> Ethvert maskinlæringsprosjekt vil ha innslag av disse former for feature engineering! (Deep learning er et slags unntak; mer om det senere)."
   ]
  },
  {
   "cell_type": "markdown",
   "metadata": {},
   "source": [
    "## En ny feature: Antall problemer per pasient"
   ]
  },
  {
   "cell_type": "markdown",
   "metadata": {},
   "source": [
    "Hver pasient er tilordnet en rekke flagg av ulike problemer: \n",
    "```\n",
    " 'dialysisrenalendstage',\n",
    " 'asthma',\n",
    " 'irondef',\n",
    " 'pneum',\n",
    " 'substancedependence',\n",
    " 'psychologicaldisordermajor',\n",
    " 'depress',\n",
    " 'psychother',\n",
    " 'fibrosisandother',\n",
    " 'malnutrition',\n",
    " 'hemo'\n",
    " ```"
   ]
  },
  {
   "cell_type": "code",
   "execution_count": 36,
   "metadata": {},
   "outputs": [
    {
     "data": {
      "text/html": [
       "<div>\n",
       "<style scoped>\n",
       "    .dataframe tbody tr th:only-of-type {\n",
       "        vertical-align: middle;\n",
       "    }\n",
       "\n",
       "    .dataframe tbody tr th {\n",
       "        vertical-align: top;\n",
       "    }\n",
       "\n",
       "    .dataframe thead th {\n",
       "        text-align: right;\n",
       "    }\n",
       "</style>\n",
       "<table border=\"1\" class=\"dataframe\">\n",
       "  <thead>\n",
       "    <tr style=\"text-align: right;\">\n",
       "      <th></th>\n",
       "      <th>rcount</th>\n",
       "      <th>gender</th>\n",
       "      <th>facid</th>\n",
       "      <th>eid</th>\n",
       "      <th>dialysisrenalendstage</th>\n",
       "      <th>asthma</th>\n",
       "      <th>irondef</th>\n",
       "      <th>pneum</th>\n",
       "      <th>substancedependence</th>\n",
       "      <th>psychologicaldisordermajor</th>\n",
       "      <th>...</th>\n",
       "      <th>neutrophils</th>\n",
       "      <th>sodium</th>\n",
       "      <th>glucose</th>\n",
       "      <th>bloodureanitro</th>\n",
       "      <th>creatinine</th>\n",
       "      <th>bmi</th>\n",
       "      <th>pulse</th>\n",
       "      <th>respiration</th>\n",
       "      <th>secondarydiagnosisnonicd9</th>\n",
       "      <th>lengthofstay</th>\n",
       "    </tr>\n",
       "  </thead>\n",
       "  <tbody>\n",
       "    <tr>\n",
       "      <th>0</th>\n",
       "      <td>0</td>\n",
       "      <td>0</td>\n",
       "      <td>1</td>\n",
       "      <td>1</td>\n",
       "      <td>False</td>\n",
       "      <td>False</td>\n",
       "      <td>False</td>\n",
       "      <td>False</td>\n",
       "      <td>False</td>\n",
       "      <td>False</td>\n",
       "      <td>...</td>\n",
       "      <td>14.20</td>\n",
       "      <td>140.361130</td>\n",
       "      <td>192.476913</td>\n",
       "      <td>12.0</td>\n",
       "      <td>1.390722</td>\n",
       "      <td>30.432417</td>\n",
       "      <td>96</td>\n",
       "      <td>6.5</td>\n",
       "      <td>4</td>\n",
       "      <td>3</td>\n",
       "    </tr>\n",
       "    <tr>\n",
       "      <th>1</th>\n",
       "      <td>5</td>\n",
       "      <td>0</td>\n",
       "      <td>0</td>\n",
       "      <td>2</td>\n",
       "      <td>False</td>\n",
       "      <td>False</td>\n",
       "      <td>False</td>\n",
       "      <td>False</td>\n",
       "      <td>False</td>\n",
       "      <td>False</td>\n",
       "      <td>...</td>\n",
       "      <td>4.10</td>\n",
       "      <td>136.731689</td>\n",
       "      <td>94.078506</td>\n",
       "      <td>8.0</td>\n",
       "      <td>0.943164</td>\n",
       "      <td>28.460516</td>\n",
       "      <td>61</td>\n",
       "      <td>6.5</td>\n",
       "      <td>1</td>\n",
       "      <td>7</td>\n",
       "    </tr>\n",
       "    <tr>\n",
       "      <th>2</th>\n",
       "      <td>1</td>\n",
       "      <td>0</td>\n",
       "      <td>1</td>\n",
       "      <td>3</td>\n",
       "      <td>False</td>\n",
       "      <td>False</td>\n",
       "      <td>False</td>\n",
       "      <td>False</td>\n",
       "      <td>False</td>\n",
       "      <td>False</td>\n",
       "      <td>...</td>\n",
       "      <td>8.90</td>\n",
       "      <td>133.058517</td>\n",
       "      <td>130.530518</td>\n",
       "      <td>12.0</td>\n",
       "      <td>1.065750</td>\n",
       "      <td>28.843811</td>\n",
       "      <td>64</td>\n",
       "      <td>6.5</td>\n",
       "      <td>2</td>\n",
       "      <td>3</td>\n",
       "    </tr>\n",
       "    <tr>\n",
       "      <th>3</th>\n",
       "      <td>0</td>\n",
       "      <td>0</td>\n",
       "      <td>0</td>\n",
       "      <td>4</td>\n",
       "      <td>False</td>\n",
       "      <td>False</td>\n",
       "      <td>False</td>\n",
       "      <td>False</td>\n",
       "      <td>False</td>\n",
       "      <td>False</td>\n",
       "      <td>...</td>\n",
       "      <td>9.40</td>\n",
       "      <td>138.994019</td>\n",
       "      <td>163.377029</td>\n",
       "      <td>12.0</td>\n",
       "      <td>0.906862</td>\n",
       "      <td>27.959007</td>\n",
       "      <td>76</td>\n",
       "      <td>6.5</td>\n",
       "      <td>1</td>\n",
       "      <td>1</td>\n",
       "    </tr>\n",
       "    <tr>\n",
       "      <th>4</th>\n",
       "      <td>0</td>\n",
       "      <td>0</td>\n",
       "      <td>4</td>\n",
       "      <td>5</td>\n",
       "      <td>False</td>\n",
       "      <td>False</td>\n",
       "      <td>False</td>\n",
       "      <td>True</td>\n",
       "      <td>False</td>\n",
       "      <td>True</td>\n",
       "      <td>...</td>\n",
       "      <td>9.05</td>\n",
       "      <td>138.634842</td>\n",
       "      <td>94.886658</td>\n",
       "      <td>11.5</td>\n",
       "      <td>1.242854</td>\n",
       "      <td>30.258926</td>\n",
       "      <td>67</td>\n",
       "      <td>5.6</td>\n",
       "      <td>2</td>\n",
       "      <td>4</td>\n",
       "    </tr>\n",
       "  </tbody>\n",
       "</table>\n",
       "<p>5 rows × 26 columns</p>\n",
       "</div>"
      ],
      "text/plain": [
       "   rcount  gender  facid  eid  dialysisrenalendstage  asthma  irondef  pneum  \\\n",
       "0       0       0      1    1                  False   False    False  False   \n",
       "1       5       0      0    2                  False   False    False  False   \n",
       "2       1       0      1    3                  False   False    False  False   \n",
       "3       0       0      0    4                  False   False    False  False   \n",
       "4       0       0      4    5                  False   False    False   True   \n",
       "\n",
       "   substancedependence  psychologicaldisordermajor      ...       neutrophils  \\\n",
       "0                False                       False      ...             14.20   \n",
       "1                False                       False      ...              4.10   \n",
       "2                False                       False      ...              8.90   \n",
       "3                False                       False      ...              9.40   \n",
       "4                False                        True      ...              9.05   \n",
       "\n",
       "       sodium     glucose  bloodureanitro  creatinine        bmi  pulse  \\\n",
       "0  140.361130  192.476913            12.0    1.390722  30.432417     96   \n",
       "1  136.731689   94.078506             8.0    0.943164  28.460516     61   \n",
       "2  133.058517  130.530518            12.0    1.065750  28.843811     64   \n",
       "3  138.994019  163.377029            12.0    0.906862  27.959007     76   \n",
       "4  138.634842   94.886658            11.5    1.242854  30.258926     67   \n",
       "\n",
       "   respiration  secondarydiagnosisnonicd9  lengthofstay  \n",
       "0          6.5                          4             3  \n",
       "1          6.5                          1             7  \n",
       "2          6.5                          2             3  \n",
       "3          6.5                          1             1  \n",
       "4          5.6                          2             4  \n",
       "\n",
       "[5 rows x 26 columns]"
      ]
     },
     "execution_count": 36,
     "metadata": {},
     "output_type": "execute_result"
    }
   ],
   "source": [
    "LOS.head()"
   ]
  },
  {
   "cell_type": "code",
   "execution_count": 37,
   "metadata": {},
   "outputs": [
    {
     "data": {
      "text/html": [
       "<div>\n",
       "<style scoped>\n",
       "    .dataframe tbody tr th:only-of-type {\n",
       "        vertical-align: middle;\n",
       "    }\n",
       "\n",
       "    .dataframe tbody tr th {\n",
       "        vertical-align: top;\n",
       "    }\n",
       "\n",
       "    .dataframe thead th {\n",
       "        text-align: right;\n",
       "    }\n",
       "</style>\n",
       "<table border=\"1\" class=\"dataframe\">\n",
       "  <thead>\n",
       "    <tr style=\"text-align: right;\">\n",
       "      <th></th>\n",
       "      <th>Index</th>\n",
       "      <th>Data fields</th>\n",
       "      <th>Type</th>\n",
       "      <th>Descriptions</th>\n",
       "    </tr>\n",
       "  </thead>\n",
       "  <tbody>\n",
       "    <tr>\n",
       "      <th>0</th>\n",
       "      <td>NaN</td>\n",
       "      <td>LengthOfStay</td>\n",
       "      <td>NaN</td>\n",
       "      <td>NaN</td>\n",
       "    </tr>\n",
       "    <tr>\n",
       "      <th>1</th>\n",
       "      <td>1.0</td>\n",
       "      <td>eid</td>\n",
       "      <td>Integer</td>\n",
       "      <td>Unique Id of the hospital admission</td>\n",
       "    </tr>\n",
       "    <tr>\n",
       "      <th>2</th>\n",
       "      <td>2.0</td>\n",
       "      <td>vdate</td>\n",
       "      <td>String</td>\n",
       "      <td>Visit date</td>\n",
       "    </tr>\n",
       "    <tr>\n",
       "      <th>3</th>\n",
       "      <td>3.0</td>\n",
       "      <td>rcount</td>\n",
       "      <td>Integer</td>\n",
       "      <td>Number of readmissions within last 180 days</td>\n",
       "    </tr>\n",
       "    <tr>\n",
       "      <th>4</th>\n",
       "      <td>4.0</td>\n",
       "      <td>gender</td>\n",
       "      <td>String</td>\n",
       "      <td>Gender of the patient\\nM or F</td>\n",
       "    </tr>\n",
       "    <tr>\n",
       "      <th>5</th>\n",
       "      <td>5.0</td>\n",
       "      <td>dialysisrenalendstage</td>\n",
       "      <td>String</td>\n",
       "      <td>Flag for renal disease during encounter</td>\n",
       "    </tr>\n",
       "    <tr>\n",
       "      <th>6</th>\n",
       "      <td>6.0</td>\n",
       "      <td>asthma</td>\n",
       "      <td>String</td>\n",
       "      <td>Flag for asthma during encounter</td>\n",
       "    </tr>\n",
       "    <tr>\n",
       "      <th>7</th>\n",
       "      <td>7.0</td>\n",
       "      <td>irondef</td>\n",
       "      <td>String</td>\n",
       "      <td>Flag for iron deficiency during encounter</td>\n",
       "    </tr>\n",
       "    <tr>\n",
       "      <th>8</th>\n",
       "      <td>8.0</td>\n",
       "      <td>pneum</td>\n",
       "      <td>String</td>\n",
       "      <td>Flag for pneumonia during encounter</td>\n",
       "    </tr>\n",
       "    <tr>\n",
       "      <th>9</th>\n",
       "      <td>9.0</td>\n",
       "      <td>substancedependence</td>\n",
       "      <td>String</td>\n",
       "      <td>Flag for substance dependence during encounter</td>\n",
       "    </tr>\n",
       "    <tr>\n",
       "      <th>10</th>\n",
       "      <td>10.0</td>\n",
       "      <td>psychologicaldisordermajor</td>\n",
       "      <td>String</td>\n",
       "      <td>Flag for major psychological disorder during e...</td>\n",
       "    </tr>\n",
       "    <tr>\n",
       "      <th>11</th>\n",
       "      <td>11.0</td>\n",
       "      <td>depress</td>\n",
       "      <td>String</td>\n",
       "      <td>Flag for depression during encounter</td>\n",
       "    </tr>\n",
       "    <tr>\n",
       "      <th>12</th>\n",
       "      <td>12.0</td>\n",
       "      <td>psychother</td>\n",
       "      <td>String</td>\n",
       "      <td>Flag for other psychological disorder during e...</td>\n",
       "    </tr>\n",
       "    <tr>\n",
       "      <th>13</th>\n",
       "      <td>13.0</td>\n",
       "      <td>fibrosisandother</td>\n",
       "      <td>String</td>\n",
       "      <td>Flag for fibrosis during encounter</td>\n",
       "    </tr>\n",
       "    <tr>\n",
       "      <th>14</th>\n",
       "      <td>14.0</td>\n",
       "      <td>malnutrition</td>\n",
       "      <td>String</td>\n",
       "      <td>Flag for malnutrituion during encounter</td>\n",
       "    </tr>\n",
       "    <tr>\n",
       "      <th>15</th>\n",
       "      <td>15.0</td>\n",
       "      <td>hemo</td>\n",
       "      <td>Float</td>\n",
       "      <td>Flag for blood disorder during encounter</td>\n",
       "    </tr>\n",
       "    <tr>\n",
       "      <th>16</th>\n",
       "      <td>16.0</td>\n",
       "      <td>hematocritic</td>\n",
       "      <td>Float</td>\n",
       "      <td>Average hematocritic value during encounter (g...</td>\n",
       "    </tr>\n",
       "    <tr>\n",
       "      <th>17</th>\n",
       "      <td>17.0</td>\n",
       "      <td>neutrophils</td>\n",
       "      <td>Float</td>\n",
       "      <td>Average neutrophils value during encounter  (c...</td>\n",
       "    </tr>\n",
       "    <tr>\n",
       "      <th>18</th>\n",
       "      <td>18.0</td>\n",
       "      <td>sodium</td>\n",
       "      <td>Float</td>\n",
       "      <td>Average sodium value during encounter (mmol/L)</td>\n",
       "    </tr>\n",
       "    <tr>\n",
       "      <th>19</th>\n",
       "      <td>19.0</td>\n",
       "      <td>glucose</td>\n",
       "      <td>Float</td>\n",
       "      <td>Average sodium value during encounter (mmol/L)</td>\n",
       "    </tr>\n",
       "    <tr>\n",
       "      <th>20</th>\n",
       "      <td>20.0</td>\n",
       "      <td>bloodureanitro</td>\n",
       "      <td>Float</td>\n",
       "      <td>Average blood urea nitrogen value during encou...</td>\n",
       "    </tr>\n",
       "    <tr>\n",
       "      <th>21</th>\n",
       "      <td>21.0</td>\n",
       "      <td>creatinine</td>\n",
       "      <td>Float</td>\n",
       "      <td>Average creatinine value during encounter (mg/dL)</td>\n",
       "    </tr>\n",
       "    <tr>\n",
       "      <th>22</th>\n",
       "      <td>22.0</td>\n",
       "      <td>bmi</td>\n",
       "      <td>Float</td>\n",
       "      <td>Average BMI during encounter (kg/m2)</td>\n",
       "    </tr>\n",
       "    <tr>\n",
       "      <th>23</th>\n",
       "      <td>23.0</td>\n",
       "      <td>pulse</td>\n",
       "      <td>Float</td>\n",
       "      <td>Average pulse during encounter  (beats/m)</td>\n",
       "    </tr>\n",
       "    <tr>\n",
       "      <th>24</th>\n",
       "      <td>24.0</td>\n",
       "      <td>respiration</td>\n",
       "      <td>Float</td>\n",
       "      <td>Average respiration during encounter  (breaths...</td>\n",
       "    </tr>\n",
       "    <tr>\n",
       "      <th>25</th>\n",
       "      <td>25.0</td>\n",
       "      <td>secondarydiagnosisnonicd9</td>\n",
       "      <td>Integer</td>\n",
       "      <td>Flag for whether a non ICD 9 formatted diagnos...</td>\n",
       "    </tr>\n",
       "    <tr>\n",
       "      <th>26</th>\n",
       "      <td>26.0</td>\n",
       "      <td>discharged</td>\n",
       "      <td>String</td>\n",
       "      <td>Date of discharge</td>\n",
       "    </tr>\n",
       "    <tr>\n",
       "      <th>27</th>\n",
       "      <td>27.0</td>\n",
       "      <td>facid</td>\n",
       "      <td>Integer</td>\n",
       "      <td>Facility ID at which the encounter occurred</td>\n",
       "    </tr>\n",
       "    <tr>\n",
       "      <th>28</th>\n",
       "      <td>28.0</td>\n",
       "      <td>lengthofstay</td>\n",
       "      <td>Integer</td>\n",
       "      <td>Length of stay for the encounter</td>\n",
       "    </tr>\n",
       "  </tbody>\n",
       "</table>\n",
       "</div>"
      ],
      "text/plain": [
       "    Index                                       Data fields      Type  \\\n",
       "0     NaN                                      LengthOfStay       NaN   \n",
       "1     1.0                                               eid   Integer   \n",
       "2     2.0                                             vdate    String   \n",
       "3     3.0                                            rcount  Integer    \n",
       "4     4.0                                            gender    String   \n",
       "5     5.0                       dialysisrenalendstage          String   \n",
       "6     6.0                           asthma                     String   \n",
       "7     7.0                            irondef                   String   \n",
       "8     8.0                         pneum                        String   \n",
       "9     9.0                            substancedependence       String   \n",
       "10   10.0                       psychologicaldisordermajor     String   \n",
       "11   11.0                              depress                 String   \n",
       "12   12.0                        psychother                    String   \n",
       "13   13.0                      fibrosisandother                String   \n",
       "14   14.0                            malnutrition              String   \n",
       "15   15.0                                        hemo           Float   \n",
       "16   16.0                      hematocritic                     Float   \n",
       "17   17.0                          neutrophils                  Float   \n",
       "18   18.0                                          sodium       Float   \n",
       "19   19.0                         glucose                       Float   \n",
       "20   20.0                                bloodureanitro         Float   \n",
       "21   21.0                          creatinine                   Float   \n",
       "22   22.0                                      bmi              Float   \n",
       "23   23.0  pulse                                                Float   \n",
       "24   24.0                                     respiration       Float   \n",
       "25   25.0                   secondarydiagnosisnonicd9         Integer   \n",
       "26   26.0                       discharged                     String   \n",
       "27   27.0                        facid                        Integer   \n",
       "28   28.0                              lengthofstay           Integer   \n",
       "\n",
       "                                         Descriptions  \n",
       "0                                                 NaN  \n",
       "1                 Unique Id of the hospital admission  \n",
       "2                                          Visit date  \n",
       "3         Number of readmissions within last 180 days  \n",
       "4                       Gender of the patient\\nM or F  \n",
       "5             Flag for renal disease during encounter  \n",
       "6                    Flag for asthma during encounter  \n",
       "7           Flag for iron deficiency during encounter  \n",
       "8                 Flag for pneumonia during encounter  \n",
       "9      Flag for substance dependence during encounter  \n",
       "10  Flag for major psychological disorder during e...  \n",
       "11               Flag for depression during encounter  \n",
       "12  Flag for other psychological disorder during e...  \n",
       "13                 Flag for fibrosis during encounter  \n",
       "14            Flag for malnutrituion during encounter  \n",
       "15          Flag for blood disorder during encounter   \n",
       "16  Average hematocritic value during encounter (g...  \n",
       "17  Average neutrophils value during encounter  (c...  \n",
       "18     Average sodium value during encounter (mmol/L)  \n",
       "19     Average sodium value during encounter (mmol/L)  \n",
       "20  Average blood urea nitrogen value during encou...  \n",
       "21  Average creatinine value during encounter (mg/dL)  \n",
       "22               Average BMI during encounter (kg/m2)  \n",
       "23          Average pulse during encounter  (beats/m)  \n",
       "24  Average respiration during encounter  (breaths...  \n",
       "25  Flag for whether a non ICD 9 formatted diagnos...  \n",
       "26                                  Date of discharge  \n",
       "27        Facility ID at which the encounter occurred  \n",
       "28                  Length of stay for the encounter   "
      ]
     },
     "execution_count": 37,
     "metadata": {},
     "output_type": "execute_result"
    }
   ],
   "source": [
    "DICT"
   ]
  },
  {
   "cell_type": "markdown",
   "metadata": {},
   "source": [
    "La oss lage en ny feature som teller antall problemer per pasient. Tanken er at antall problemer en pasient har påvirker liggetiden. Om vi legger dette til som en feature gjør vi det enklere for modellen å plukke opp en slik sammenheng. \n",
    "\n",
    "Vi forsøker:"
   ]
  },
  {
   "cell_type": "code",
   "execution_count": 38,
   "metadata": {},
   "outputs": [],
   "source": [
    "issues = ['dialysisrenalendstage',\n",
    " 'asthma',\n",
    " 'irondef',\n",
    " 'pneum',\n",
    " 'substancedependence',\n",
    " 'psychologicaldisordermajor',\n",
    " 'depress',\n",
    " 'psychother',\n",
    " 'fibrosisandother',\n",
    " 'malnutrition',\n",
    " 'hemo']"
   ]
  },
  {
   "cell_type": "code",
   "execution_count": 39,
   "metadata": {},
   "outputs": [],
   "source": [
    "# Vi legger til summen av antall problemer som en feature, helt på slutten i vår data frame:\n",
    "LOS.insert(len(LOS.columns)- 1, 'numberofissues', LOS[issues].astype('int').sum(axis=1))"
   ]
  },
  {
   "cell_type": "code",
   "execution_count": 40,
   "metadata": {},
   "outputs": [
    {
     "data": {
      "text/html": [
       "<div>\n",
       "<style scoped>\n",
       "    .dataframe tbody tr th:only-of-type {\n",
       "        vertical-align: middle;\n",
       "    }\n",
       "\n",
       "    .dataframe tbody tr th {\n",
       "        vertical-align: top;\n",
       "    }\n",
       "\n",
       "    .dataframe thead th {\n",
       "        text-align: right;\n",
       "    }\n",
       "</style>\n",
       "<table border=\"1\" class=\"dataframe\">\n",
       "  <thead>\n",
       "    <tr style=\"text-align: right;\">\n",
       "      <th></th>\n",
       "      <th>rcount</th>\n",
       "      <th>gender</th>\n",
       "      <th>facid</th>\n",
       "      <th>eid</th>\n",
       "      <th>dialysisrenalendstage</th>\n",
       "      <th>asthma</th>\n",
       "      <th>irondef</th>\n",
       "      <th>pneum</th>\n",
       "      <th>substancedependence</th>\n",
       "      <th>psychologicaldisordermajor</th>\n",
       "      <th>...</th>\n",
       "      <th>sodium</th>\n",
       "      <th>glucose</th>\n",
       "      <th>bloodureanitro</th>\n",
       "      <th>creatinine</th>\n",
       "      <th>bmi</th>\n",
       "      <th>pulse</th>\n",
       "      <th>respiration</th>\n",
       "      <th>secondarydiagnosisnonicd9</th>\n",
       "      <th>numberofissues</th>\n",
       "      <th>lengthofstay</th>\n",
       "    </tr>\n",
       "  </thead>\n",
       "  <tbody>\n",
       "    <tr>\n",
       "      <th>0</th>\n",
       "      <td>0</td>\n",
       "      <td>0</td>\n",
       "      <td>1</td>\n",
       "      <td>1</td>\n",
       "      <td>False</td>\n",
       "      <td>False</td>\n",
       "      <td>False</td>\n",
       "      <td>False</td>\n",
       "      <td>False</td>\n",
       "      <td>False</td>\n",
       "      <td>...</td>\n",
       "      <td>140.361130</td>\n",
       "      <td>192.476913</td>\n",
       "      <td>12.0</td>\n",
       "      <td>1.390722</td>\n",
       "      <td>30.432417</td>\n",
       "      <td>96</td>\n",
       "      <td>6.5</td>\n",
       "      <td>4</td>\n",
       "      <td>0</td>\n",
       "      <td>3</td>\n",
       "    </tr>\n",
       "    <tr>\n",
       "      <th>1</th>\n",
       "      <td>5</td>\n",
       "      <td>0</td>\n",
       "      <td>0</td>\n",
       "      <td>2</td>\n",
       "      <td>False</td>\n",
       "      <td>False</td>\n",
       "      <td>False</td>\n",
       "      <td>False</td>\n",
       "      <td>False</td>\n",
       "      <td>False</td>\n",
       "      <td>...</td>\n",
       "      <td>136.731689</td>\n",
       "      <td>94.078506</td>\n",
       "      <td>8.0</td>\n",
       "      <td>0.943164</td>\n",
       "      <td>28.460516</td>\n",
       "      <td>61</td>\n",
       "      <td>6.5</td>\n",
       "      <td>1</td>\n",
       "      <td>0</td>\n",
       "      <td>7</td>\n",
       "    </tr>\n",
       "    <tr>\n",
       "      <th>2</th>\n",
       "      <td>1</td>\n",
       "      <td>0</td>\n",
       "      <td>1</td>\n",
       "      <td>3</td>\n",
       "      <td>False</td>\n",
       "      <td>False</td>\n",
       "      <td>False</td>\n",
       "      <td>False</td>\n",
       "      <td>False</td>\n",
       "      <td>False</td>\n",
       "      <td>...</td>\n",
       "      <td>133.058517</td>\n",
       "      <td>130.530518</td>\n",
       "      <td>12.0</td>\n",
       "      <td>1.065750</td>\n",
       "      <td>28.843811</td>\n",
       "      <td>64</td>\n",
       "      <td>6.5</td>\n",
       "      <td>2</td>\n",
       "      <td>0</td>\n",
       "      <td>3</td>\n",
       "    </tr>\n",
       "    <tr>\n",
       "      <th>3</th>\n",
       "      <td>0</td>\n",
       "      <td>0</td>\n",
       "      <td>0</td>\n",
       "      <td>4</td>\n",
       "      <td>False</td>\n",
       "      <td>False</td>\n",
       "      <td>False</td>\n",
       "      <td>False</td>\n",
       "      <td>False</td>\n",
       "      <td>False</td>\n",
       "      <td>...</td>\n",
       "      <td>138.994019</td>\n",
       "      <td>163.377029</td>\n",
       "      <td>12.0</td>\n",
       "      <td>0.906862</td>\n",
       "      <td>27.959007</td>\n",
       "      <td>76</td>\n",
       "      <td>6.5</td>\n",
       "      <td>1</td>\n",
       "      <td>0</td>\n",
       "      <td>1</td>\n",
       "    </tr>\n",
       "    <tr>\n",
       "      <th>4</th>\n",
       "      <td>0</td>\n",
       "      <td>0</td>\n",
       "      <td>4</td>\n",
       "      <td>5</td>\n",
       "      <td>False</td>\n",
       "      <td>False</td>\n",
       "      <td>False</td>\n",
       "      <td>True</td>\n",
       "      <td>False</td>\n",
       "      <td>True</td>\n",
       "      <td>...</td>\n",
       "      <td>138.634842</td>\n",
       "      <td>94.886658</td>\n",
       "      <td>11.5</td>\n",
       "      <td>1.242854</td>\n",
       "      <td>30.258926</td>\n",
       "      <td>67</td>\n",
       "      <td>5.6</td>\n",
       "      <td>2</td>\n",
       "      <td>2</td>\n",
       "      <td>4</td>\n",
       "    </tr>\n",
       "  </tbody>\n",
       "</table>\n",
       "<p>5 rows × 27 columns</p>\n",
       "</div>"
      ],
      "text/plain": [
       "   rcount  gender  facid  eid  dialysisrenalendstage  asthma  irondef  pneum  \\\n",
       "0       0       0      1    1                  False   False    False  False   \n",
       "1       5       0      0    2                  False   False    False  False   \n",
       "2       1       0      1    3                  False   False    False  False   \n",
       "3       0       0      0    4                  False   False    False  False   \n",
       "4       0       0      4    5                  False   False    False   True   \n",
       "\n",
       "   substancedependence  psychologicaldisordermajor      ...           sodium  \\\n",
       "0                False                       False      ...       140.361130   \n",
       "1                False                       False      ...       136.731689   \n",
       "2                False                       False      ...       133.058517   \n",
       "3                False                       False      ...       138.994019   \n",
       "4                False                        True      ...       138.634842   \n",
       "\n",
       "      glucose  bloodureanitro  creatinine        bmi  pulse  respiration  \\\n",
       "0  192.476913            12.0    1.390722  30.432417     96          6.5   \n",
       "1   94.078506             8.0    0.943164  28.460516     61          6.5   \n",
       "2  130.530518            12.0    1.065750  28.843811     64          6.5   \n",
       "3  163.377029            12.0    0.906862  27.959007     76          6.5   \n",
       "4   94.886658            11.5    1.242854  30.258926     67          5.6   \n",
       "\n",
       "   secondarydiagnosisnonicd9  numberofissues  lengthofstay  \n",
       "0                          4               0             3  \n",
       "1                          1               0             7  \n",
       "2                          2               0             3  \n",
       "3                          1               0             1  \n",
       "4                          2               2             4  \n",
       "\n",
       "[5 rows x 27 columns]"
      ]
     },
     "execution_count": 40,
     "metadata": {},
     "output_type": "execute_result"
    }
   ],
   "source": [
    "LOS.head()"
   ]
  },
  {
   "cell_type": "code",
   "execution_count": 41,
   "metadata": {},
   "outputs": [
    {
     "data": {
      "text/plain": [
       "0    57341\n",
       "1    23350\n",
       "2    11536\n",
       "3     4660\n",
       "4     2018\n",
       "5      773\n",
       "6      261\n",
       "7       46\n",
       "8       12\n",
       "9        3\n",
       "Name: numberofissues, dtype: int64"
      ]
     },
     "execution_count": 41,
     "metadata": {},
     "output_type": "execute_result"
    }
   ],
   "source": [
    "LOS['numberofissues'].value_counts()"
   ]
  },
  {
   "cell_type": "code",
   "execution_count": 42,
   "metadata": {},
   "outputs": [
    {
     "data": {
      "image/png": "[encoded data removed]",
      "text/plain": [
       "<Figure size 864x576 with 1 Axes>"
      ]
     },
     "metadata": {
      "needs_background": "light"
     },
     "output_type": "display_data"
    }
   ],
   "source": [
    "plt.figure(figsize=(12,8))\n",
    "LOS['numberofissues'].value_counts().plot.bar()\n",
    "plt.show()"
   ]
  },
  {
   "cell_type": "markdown",
   "metadata": {},
   "source": [
    "> **Din tur!** Er pasienter med mange problemer ofte innlagt? Ligger de lenge?"
   ]
  },
  {
   "cell_type": "markdown",
   "metadata": {},
   "source": [
    "## Lag modell med vår nye feature inkludert"
   ]
  },
  {
   "cell_type": "code",
   "execution_count": 43,
   "metadata": {},
   "outputs": [],
   "source": [
    "X = LOS.drop('lengthofstay', axis=1)\n",
    "y = LOS['lengthofstay']"
   ]
  },
  {
   "cell_type": "code",
   "execution_count": 44,
   "metadata": {},
   "outputs": [],
   "source": [
    "X_train, X_test, y_train, y_test = train_test_split(X, y, stratify=y, random_state=42)"
   ]
  },
  {
   "cell_type": "markdown",
   "metadata": {},
   "source": [
    "Vi trener en ny random forest klassifikator:"
   ]
  },
  {
   "cell_type": "code",
   "execution_count": 45,
   "metadata": {},
   "outputs": [],
   "source": [
    "rf = RandomForestClassifier(n_estimators=100, random_state=42, n_jobs=-1) "
   ]
  },
  {
   "cell_type": "code",
   "execution_count": 46,
   "metadata": {},
   "outputs": [
    {
     "data": {
      "text/plain": [
       "RandomForestClassifier(bootstrap=True, class_weight=None, criterion='gini',\n",
       "            max_depth=None, max_features='auto', max_leaf_nodes=None,\n",
       "            min_impurity_decrease=0.0, min_impurity_split=None,\n",
       "            min_samples_leaf=1, min_samples_split=2,\n",
       "            min_weight_fraction_leaf=0.0, n_estimators=100, n_jobs=-1,\n",
       "            oob_score=False, random_state=42, verbose=0, warm_start=False)"
      ]
     },
     "execution_count": 46,
     "metadata": {},
     "output_type": "execute_result"
    }
   ],
   "source": [
    "rf.fit(X_train, y_train)"
   ]
  },
  {
   "cell_type": "markdown",
   "metadata": {},
   "source": [
    "...og beregner accuracy på test-data:"
   ]
  },
  {
   "cell_type": "code",
   "execution_count": 47,
   "metadata": {},
   "outputs": [],
   "source": [
    "y_pred = rf.predict(X_test)"
   ]
  },
  {
   "cell_type": "code",
   "execution_count": 48,
   "metadata": {},
   "outputs": [
    {
     "data": {
      "text/plain": [
       "0.67816"
      ]
     },
     "execution_count": 48,
     "metadata": {},
     "output_type": "execute_result"
    }
   ],
   "source": [
    "accuracy_score(y_test, y_pred)"
   ]
  },
  {
   "cell_type": "markdown",
   "metadata": {},
   "source": [
    "Vi predikerer altså liggetiden med ca. 68% nøyaktighet. Littegrann bedre enn forrige modell."
   ]
  },
  {
   "cell_type": "markdown",
   "metadata": {},
   "source": [
    "La oss se på feature importance og permutation importance for å undersøke hvor god vår nye feature er:"
   ]
  },
  {
   "cell_type": "code",
   "execution_count": 49,
   "metadata": {},
   "outputs": [
    {
     "name": "stdout",
     "output_type": "stream",
     "text": [
      "rcount: 0.23\n",
      "creatinine: 0.08\n",
      "glucose: 0.08\n",
      "bmi: 0.08\n",
      "sodium: 0.08\n",
      "pulse: 0.07\n",
      "hematocrit: 0.07\n",
      "neutrophils: 0.05\n",
      "numberofissues: 0.05\n",
      "eid: 0.05\n",
      "respiration: 0.04\n",
      "bloodureanitro: 0.04\n",
      "facid: 0.03\n",
      "secondarydiagnosisnonicd9: 0.02\n",
      "psychologicaldisordermajor: 0.01\n",
      "gender: 0.01\n",
      "hemo: 0.01\n",
      "irondef: 0.0\n",
      "substancedependence: 0.0\n",
      "depress: 0.0\n",
      "psychother: 0.0\n",
      "pneum: 0.0\n",
      "malnutrition: 0.0\n",
      "dialysisrenalendstage: 0.0\n",
      "asthma: 0.0\n",
      "fibrosisandother: 0.0\n"
     ]
    }
   ],
   "source": [
    "importances = rf.feature_importances_\n",
    "# Find index of those with highest importance, sorted from largest to smallest:\n",
    "indices = np.argsort(importances)[::-1]\n",
    "for f in range(X.shape[1]): \n",
    "    print(f'{X.columns[indices[f]]}: {np.round(importances[indices[f]],2)}')"
   ]
  },
  {
   "cell_type": "markdown",
   "metadata": {},
   "source": [
    "Vi ser at modellen bruker `number_of_issues` mer aktivt enn hvert av flaggene. "
   ]
  },
  {
   "cell_type": "markdown",
   "metadata": {},
   "source": [
    "Hva med permutation importance?"
   ]
  },
  {
   "cell_type": "code",
   "execution_count": 50,
   "metadata": {},
   "outputs": [],
   "source": [
    "perm = PermutationImportance(rf, random_state=42).fit(X_test, y_test)"
   ]
  },
  {
   "cell_type": "code",
   "execution_count": 51,
   "metadata": {},
   "outputs": [
    {
     "data": {
      "text/html": [
       "\n",
       "    <style>\n",
       "    table.eli5-weights tr:hover {\n",
       "        filter: brightness(85%);\n",
       "    }\n",
       "</style>\n",
       "\n",
       "\n",
       "\n",
       "    \n",
       "\n",
       "    \n",
       "\n",
       "    \n",
       "\n",
       "    \n",
       "\n",
       "    \n",
       "\n",
       "    \n",
       "\n",
       "\n",
       "    \n",
       "\n",
       "    \n",
       "\n",
       "    \n",
       "\n",
       "    \n",
       "\n",
       "    \n",
       "\n",
       "    \n",
       "\n",
       "\n",
       "    \n",
       "\n",
       "    \n",
       "\n",
       "    \n",
       "\n",
       "    \n",
       "\n",
       "    \n",
       "        <table class=\"eli5-weights eli5-feature-importances\" style=\"border-collapse: collapse; border: none; margin-top: 0em; table-layout: auto;\">\n",
       "    <thead>\n",
       "    <tr style=\"border: none;\">\n",
       "        <th style=\"padding: 0 1em 0 0.5em; text-align: right; border: none;\">Weight</th>\n",
       "        <th style=\"padding: 0 0.5em 0 0.5em; text-align: left; border: none;\">Feature</th>\n",
       "    </tr>\n",
       "    </thead>\n",
       "    <tbody>\n",
       "    \n",
       "        <tr style=\"background-color: hsl(120, 100.00%, 80.00%); border: none;\">\n",
       "            <td style=\"padding: 0 1em 0 0.5em; text-align: right; border: none;\">\n",
       "                0.4000\n",
       "                \n",
       "                    &plusmn; 0.0026\n",
       "                \n",
       "            </td>\n",
       "            <td style=\"padding: 0 0.5em 0 0.5em; text-align: left; border: none;\">\n",
       "                rcount\n",
       "            </td>\n",
       "        </tr>\n",
       "    \n",
       "        <tr style=\"background-color: hsl(120, 100.00%, 84.45%); border: none;\">\n",
       "            <td style=\"padding: 0 1em 0 0.5em; text-align: right; border: none;\">\n",
       "                0.2792\n",
       "                \n",
       "                    &plusmn; 0.0051\n",
       "                \n",
       "            </td>\n",
       "            <td style=\"padding: 0 0.5em 0 0.5em; text-align: left; border: none;\">\n",
       "                numberofissues\n",
       "            </td>\n",
       "        </tr>\n",
       "    \n",
       "        <tr style=\"background-color: hsl(120, 100.00%, 94.20%); border: none;\">\n",
       "            <td style=\"padding: 0 1em 0 0.5em; text-align: right; border: none;\">\n",
       "                0.0683\n",
       "                \n",
       "                    &plusmn; 0.0018\n",
       "                \n",
       "            </td>\n",
       "            <td style=\"padding: 0 0.5em 0 0.5em; text-align: left; border: none;\">\n",
       "                hematocrit\n",
       "            </td>\n",
       "        </tr>\n",
       "    \n",
       "        <tr style=\"background-color: hsl(120, 100.00%, 94.72%); border: none;\">\n",
       "            <td style=\"padding: 0 1em 0 0.5em; text-align: right; border: none;\">\n",
       "                0.0596\n",
       "                \n",
       "                    &plusmn; 0.0028\n",
       "                \n",
       "            </td>\n",
       "            <td style=\"padding: 0 0.5em 0 0.5em; text-align: left; border: none;\">\n",
       "                bmi\n",
       "            </td>\n",
       "        </tr>\n",
       "    \n",
       "        <tr style=\"background-color: hsl(120, 100.00%, 94.95%); border: none;\">\n",
       "            <td style=\"padding: 0 1em 0 0.5em; text-align: right; border: none;\">\n",
       "                0.0560\n",
       "                \n",
       "                    &plusmn; 0.0036\n",
       "                \n",
       "            </td>\n",
       "            <td style=\"padding: 0 0.5em 0 0.5em; text-align: left; border: none;\">\n",
       "                glucose\n",
       "            </td>\n",
       "        </tr>\n",
       "    \n",
       "        <tr style=\"background-color: hsl(120, 100.00%, 94.99%); border: none;\">\n",
       "            <td style=\"padding: 0 1em 0 0.5em; text-align: right; border: none;\">\n",
       "                0.0553\n",
       "                \n",
       "                    &plusmn; 0.0018\n",
       "                \n",
       "            </td>\n",
       "            <td style=\"padding: 0 0.5em 0 0.5em; text-align: left; border: none;\">\n",
       "                creatinine\n",
       "            </td>\n",
       "        </tr>\n",
       "    \n",
       "        <tr style=\"background-color: hsl(120, 100.00%, 95.03%); border: none;\">\n",
       "            <td style=\"padding: 0 1em 0 0.5em; text-align: right; border: none;\">\n",
       "                0.0547\n",
       "                \n",
       "                    &plusmn; 0.0030\n",
       "                \n",
       "            </td>\n",
       "            <td style=\"padding: 0 0.5em 0 0.5em; text-align: left; border: none;\">\n",
       "                sodium\n",
       "            </td>\n",
       "        </tr>\n",
       "    \n",
       "        <tr style=\"background-color: hsl(120, 100.00%, 95.26%); border: none;\">\n",
       "            <td style=\"padding: 0 1em 0 0.5em; text-align: right; border: none;\">\n",
       "                0.0512\n",
       "                \n",
       "                    &plusmn; 0.0032\n",
       "                \n",
       "            </td>\n",
       "            <td style=\"padding: 0 0.5em 0 0.5em; text-align: left; border: none;\">\n",
       "                pulse\n",
       "            </td>\n",
       "        </tr>\n",
       "    \n",
       "        <tr style=\"background-color: hsl(120, 100.00%, 95.76%); border: none;\">\n",
       "            <td style=\"padding: 0 1em 0 0.5em; text-align: right; border: none;\">\n",
       "                0.0437\n",
       "                \n",
       "                    &plusmn; 0.0023\n",
       "                \n",
       "            </td>\n",
       "            <td style=\"padding: 0 0.5em 0 0.5em; text-align: left; border: none;\">\n",
       "                respiration\n",
       "            </td>\n",
       "        </tr>\n",
       "    \n",
       "        <tr style=\"background-color: hsl(120, 100.00%, 97.22%); border: none;\">\n",
       "            <td style=\"padding: 0 1em 0 0.5em; text-align: right; border: none;\">\n",
       "                0.0239\n",
       "                \n",
       "                    &plusmn; 0.0020\n",
       "                \n",
       "            </td>\n",
       "            <td style=\"padding: 0 0.5em 0 0.5em; text-align: left; border: none;\">\n",
       "                neutrophils\n",
       "            </td>\n",
       "        </tr>\n",
       "    \n",
       "        <tr style=\"background-color: hsl(120, 100.00%, 98.25%); border: none;\">\n",
       "            <td style=\"padding: 0 1em 0 0.5em; text-align: right; border: none;\">\n",
       "                0.0123\n",
       "                \n",
       "                    &plusmn; 0.0024\n",
       "                \n",
       "            </td>\n",
       "            <td style=\"padding: 0 0.5em 0 0.5em; text-align: left; border: none;\">\n",
       "                facid\n",
       "            </td>\n",
       "        </tr>\n",
       "    \n",
       "        <tr style=\"background-color: hsl(120, 100.00%, 98.33%); border: none;\">\n",
       "            <td style=\"padding: 0 1em 0 0.5em; text-align: right; border: none;\">\n",
       "                0.0115\n",
       "                \n",
       "                    &plusmn; 0.0020\n",
       "                \n",
       "            </td>\n",
       "            <td style=\"padding: 0 0.5em 0 0.5em; text-align: left; border: none;\">\n",
       "                bloodureanitro\n",
       "            </td>\n",
       "        </tr>\n",
       "    \n",
       "        <tr style=\"background-color: hsl(120, 100.00%, 99.19%); border: none;\">\n",
       "            <td style=\"padding: 0 1em 0 0.5em; text-align: right; border: none;\">\n",
       "                0.0041\n",
       "                \n",
       "                    &plusmn; 0.0012\n",
       "                \n",
       "            </td>\n",
       "            <td style=\"padding: 0 0.5em 0 0.5em; text-align: left; border: none;\">\n",
       "                psychologicaldisordermajor\n",
       "            </td>\n",
       "        </tr>\n",
       "    \n",
       "        <tr style=\"background-color: hsl(120, 100.00%, 99.80%); border: none;\">\n",
       "            <td style=\"padding: 0 1em 0 0.5em; text-align: right; border: none;\">\n",
       "                0.0006\n",
       "                \n",
       "                    &plusmn; 0.0006\n",
       "                \n",
       "            </td>\n",
       "            <td style=\"padding: 0 0.5em 0 0.5em; text-align: left; border: none;\">\n",
       "                hemo\n",
       "            </td>\n",
       "        </tr>\n",
       "    \n",
       "        <tr style=\"background-color: hsl(120, 100.00%, 99.86%); border: none;\">\n",
       "            <td style=\"padding: 0 1em 0 0.5em; text-align: right; border: none;\">\n",
       "                0.0003\n",
       "                \n",
       "                    &plusmn; 0.0006\n",
       "                \n",
       "            </td>\n",
       "            <td style=\"padding: 0 0.5em 0 0.5em; text-align: left; border: none;\">\n",
       "                dialysisrenalendstage\n",
       "            </td>\n",
       "        </tr>\n",
       "    \n",
       "        <tr style=\"background-color: hsl(120, 100.00%, 99.87%); border: none;\">\n",
       "            <td style=\"padding: 0 1em 0 0.5em; text-align: right; border: none;\">\n",
       "                0.0003\n",
       "                \n",
       "                    &plusmn; 0.0017\n",
       "                \n",
       "            </td>\n",
       "            <td style=\"padding: 0 0.5em 0 0.5em; text-align: left; border: none;\">\n",
       "                secondarydiagnosisnonicd9\n",
       "            </td>\n",
       "        </tr>\n",
       "    \n",
       "        <tr style=\"background-color: hsl(120, 100.00%, 99.99%); border: none;\">\n",
       "            <td style=\"padding: 0 1em 0 0.5em; text-align: right; border: none;\">\n",
       "                0.0000\n",
       "                \n",
       "                    &plusmn; 0.0007\n",
       "                \n",
       "            </td>\n",
       "            <td style=\"padding: 0 0.5em 0 0.5em; text-align: left; border: none;\">\n",
       "                substancedependence\n",
       "            </td>\n",
       "        </tr>\n",
       "    \n",
       "        <tr style=\"background-color: hsl(0, 100.00%, 99.98%); border: none;\">\n",
       "            <td style=\"padding: 0 1em 0 0.5em; text-align: right; border: none;\">\n",
       "                -0.0000\n",
       "                \n",
       "                    &plusmn; 0.0001\n",
       "                \n",
       "            </td>\n",
       "            <td style=\"padding: 0 0.5em 0 0.5em; text-align: left; border: none;\">\n",
       "                fibrosisandother\n",
       "            </td>\n",
       "        </tr>\n",
       "    \n",
       "        <tr style=\"background-color: hsl(0, 100.00%, 99.98%); border: none;\">\n",
       "            <td style=\"padding: 0 1em 0 0.5em; text-align: right; border: none;\">\n",
       "                -0.0000\n",
       "                \n",
       "                    &plusmn; 0.0016\n",
       "                \n",
       "            </td>\n",
       "            <td style=\"padding: 0 0.5em 0 0.5em; text-align: left; border: none;\">\n",
       "                eid\n",
       "            </td>\n",
       "        </tr>\n",
       "    \n",
       "        <tr style=\"background-color: hsl(0, 100.00%, 99.95%); border: none;\">\n",
       "            <td style=\"padding: 0 1em 0 0.5em; text-align: right; border: none;\">\n",
       "                -0.0001\n",
       "                \n",
       "                    &plusmn; 0.0003\n",
       "                \n",
       "            </td>\n",
       "            <td style=\"padding: 0 0.5em 0 0.5em; text-align: left; border: none;\">\n",
       "                malnutrition\n",
       "            </td>\n",
       "        </tr>\n",
       "    \n",
       "        <tr style=\"background-color: hsl(0, 100.00%, 99.88%); border: none;\">\n",
       "            <td style=\"padding: 0 1em 0 0.5em; text-align: right; border: none;\">\n",
       "                -0.0003\n",
       "                \n",
       "                    &plusmn; 0.0005\n",
       "                \n",
       "            </td>\n",
       "            <td style=\"padding: 0 0.5em 0 0.5em; text-align: left; border: none;\">\n",
       "                psychother\n",
       "            </td>\n",
       "        </tr>\n",
       "    \n",
       "        <tr style=\"background-color: hsl(0, 100.00%, 99.86%); border: none;\">\n",
       "            <td style=\"padding: 0 1em 0 0.5em; text-align: right; border: none;\">\n",
       "                -0.0003\n",
       "                \n",
       "                    &plusmn; 0.0004\n",
       "                \n",
       "            </td>\n",
       "            <td style=\"padding: 0 0.5em 0 0.5em; text-align: left; border: none;\">\n",
       "                asthma\n",
       "            </td>\n",
       "        </tr>\n",
       "    \n",
       "        <tr style=\"background-color: hsl(0, 100.00%, 99.85%); border: none;\">\n",
       "            <td style=\"padding: 0 1em 0 0.5em; text-align: right; border: none;\">\n",
       "                -0.0004\n",
       "                \n",
       "                    &plusmn; 0.0006\n",
       "                \n",
       "            </td>\n",
       "            <td style=\"padding: 0 0.5em 0 0.5em; text-align: left; border: none;\">\n",
       "                depress\n",
       "            </td>\n",
       "        </tr>\n",
       "    \n",
       "        <tr style=\"background-color: hsl(0, 100.00%, 99.85%); border: none;\">\n",
       "            <td style=\"padding: 0 1em 0 0.5em; text-align: right; border: none;\">\n",
       "                -0.0004\n",
       "                \n",
       "                    &plusmn; 0.0002\n",
       "                \n",
       "            </td>\n",
       "            <td style=\"padding: 0 0.5em 0 0.5em; text-align: left; border: none;\">\n",
       "                pneum\n",
       "            </td>\n",
       "        </tr>\n",
       "    \n",
       "        <tr style=\"background-color: hsl(0, 100.00%, 99.74%); border: none;\">\n",
       "            <td style=\"padding: 0 1em 0 0.5em; text-align: right; border: none;\">\n",
       "                -0.0008\n",
       "                \n",
       "                    &plusmn; 0.0010\n",
       "                \n",
       "            </td>\n",
       "            <td style=\"padding: 0 0.5em 0 0.5em; text-align: left; border: none;\">\n",
       "                gender\n",
       "            </td>\n",
       "        </tr>\n",
       "    \n",
       "        <tr style=\"background-color: hsl(0, 100.00%, 99.71%); border: none;\">\n",
       "            <td style=\"padding: 0 1em 0 0.5em; text-align: right; border: none;\">\n",
       "                -0.0009\n",
       "                \n",
       "                    &plusmn; 0.0009\n",
       "                \n",
       "            </td>\n",
       "            <td style=\"padding: 0 0.5em 0 0.5em; text-align: left; border: none;\">\n",
       "                irondef\n",
       "            </td>\n",
       "        </tr>\n",
       "    \n",
       "    \n",
       "    </tbody>\n",
       "</table>\n",
       "    \n",
       "\n",
       "    \n",
       "\n",
       "\n",
       "    \n",
       "\n",
       "    \n",
       "\n",
       "    \n",
       "\n",
       "    \n",
       "\n",
       "    \n",
       "\n",
       "    \n",
       "\n",
       "\n",
       "\n"
      ],
      "text/plain": [
       "<IPython.core.display.HTML object>"
      ]
     },
     "execution_count": 51,
     "metadata": {},
     "output_type": "execute_result"
    }
   ],
   "source": [
    "eli5.show_weights(perm, feature_names = X_test.columns.tolist(), top=None)"
   ]
  },
  {
   "cell_type": "markdown",
   "metadata": {},
   "source": [
    "Her ser vi virkelig effekten av vår nye feature! Den havnet på en klar andreplass, langt over de andre!"
   ]
  },
  {
   "cell_type": "markdown",
   "metadata": {},
   "source": [
    "# Din tur!"
   ]
  },
  {
   "cell_type": "markdown",
   "metadata": {},
   "source": [
    "Vi har lastet ned et annet klassifikasjonsdatasett og plassert det i katalogen `../data/liver/indian_liver_patient.csv`. Det består av data fra 416 <em>lever-pasienter</em> og 167 <em>ikke lever-pasienter</em> samlet inn i Andhra Pradesh, India. Datasettet er nærmere beskrevet her: https://archive.ics.uci.edu/ml/datasets/ILPD+(Indian+Liver+Patient+Dataset). Fra 10 features er oppgaven å predikere hvorvidt en instans svarer til en pasient eller ikke. \n",
    "\n",
    "Last inn data med Pandas, utforsk datasettet som over, og forsøk å predikere pasientstatus. "
   ]
  },
  {
   "cell_type": "markdown",
   "metadata": {},
   "source": [
    "**Hint:**"
   ]
  },
  {
   "cell_type": "code",
   "execution_count": 55,
   "metadata": {},
   "outputs": [],
   "source": [
    "#DATA = Path('../data/liver')\n",
    "#df = pd.read_csv(DATA_T/'indian_liver_patient.csv')"
   ]
  },
  {
   "cell_type": "markdown",
   "metadata": {},
   "source": [
    "# Ekstramateriale"
   ]
  },
  {
   "cell_type": "markdown",
   "metadata": {},
   "source": [
    "Vår accuracy på 68% er ikke særlig god. Det er mange standard måter å øke ytelse i maskinlæring. La oss nevne noen (dette blir fort teknisk; ikke la deg overvelde av de mange ukjente begreper og ideer):\n",
    "\n",
    "1. Få tak i bedre data. Kanskje har en tenkt feil på problemet under datainnsamlingen? Er data formålsmessig samlet inn?\n",
    "2. Få tak i mer data. \"Ekte\" data, syntetisert data, eller \"lignende\" data.\n",
    "3. Lag nye, bedre features via feature engineering. Eventuelt, fjern unyttige features (slike kan ødelegge modellen ved at mer data kreves)\n",
    "4. Preprosesser data bedre. Skalering, transformasjoner.\n",
    "5. Bruk en bedre tilpasset modell. De fleste modeller kan \"tunes\" ved å velge bedre \"hyperparametre\". Slik kan de gjøres mer eller mindre kompliserte, noe som er nyttig når en skal tilnærme seg en fasitfunksjon av en gitt kompleksitet. «Everything should be made as simple as possible, but not simpler». Dette henger tett sammen med det som kalles \"regularisering\", \"overfitting\" og \"underfitting\". Ta en titt på notebooken `ELMED219-Extra-Intro_to_ML.ipynb` om du er spesielt interessert.\n",
    "6. Bruk en bedre egnet modelltype. Kanskje har du valgt en type modell som er for simpel (for eksempel logistisk regresjon på for komplisert datasett). Eller kanskje for komplisert?\n",
    "7. Bruk flere modeller sammen i et \"ensemble\". Hver modell kan for eksempel stemme på et resultat, og så kan en predikere basert på konsensus. \"Wisdom of the crowd\". Du kan også la hver modell basere seg på litt ulike features, slik at feilene hver modell gjør er mest mulig uavhengige av hverandre. Det er også mulig å bruke en modell til å lære hvordan en samling av ulike modeller best kan settes sammen. Eller sekvensielt lage modeller som forsøker å predikere feilene gjort av tidligere modeller, for slik å sammen minimere feil. "
   ]
  },
  {
   "cell_type": "markdown",
   "metadata": {},
   "source": [
    "I vårt tilfelle kan vi gjøre et forsøk på nummer 6: vi kan bruke en annen type modell enn random forest. "
   ]
  },
  {
   "cell_type": "markdown",
   "metadata": {},
   "source": [
    "## XGBoost"
   ]
  },
  {
   "cell_type": "markdown",
   "metadata": {},
   "source": [
    "– En av de kraftigste modellene som finnes! (Sammen med dype nevrale nettverk og «deep learning»)"
   ]
  },
  {
   "cell_type": "markdown",
   "metadata": {},
   "source": [
    "Vi skal ikke gå inn på hvordan XGBoost fungerer her, bare bruke modellen som en black box (du kan lese om modellen <a href=\"https://xgboost.readthedocs.io/en/latest/tutorials/model.html\">her</a> eller <a href=\"http://blog.kaggle.com/2017/01/23/a-kaggle-master-explains-gradient-boosting\">her</a> eller <a href=\"https://campus.datacamp.com/courses/extreme-gradient-boosting-with-xgboost/classification-with-xgboost\">her</a> om du er spesielt interessert). \n",
    "\n",
    "NB: om du ikke har xgboost installert, kjør følgende celle:"
   ]
  },
  {
   "cell_type": "code",
   "execution_count": null,
   "metadata": {},
   "outputs": [],
   "source": [
    "#!pip install xgboost"
   ]
  },
  {
   "cell_type": "code",
   "execution_count": 56,
   "metadata": {},
   "outputs": [],
   "source": [
    "from xgboost import XGBClassifier"
   ]
  },
  {
   "cell_type": "code",
   "execution_count": 57,
   "metadata": {},
   "outputs": [],
   "source": [
    "xgb_clf = XGBClassifier()"
   ]
  },
  {
   "cell_type": "code",
   "execution_count": 58,
   "metadata": {},
   "outputs": [
    {
     "data": {
      "text/plain": [
       "XGBClassifier(base_score=0.5, booster='gbtree', colsample_bylevel=1,\n",
       "       colsample_bytree=1, gamma=0, learning_rate=0.1, max_delta_step=0,\n",
       "       max_depth=3, min_child_weight=1, missing=None, n_estimators=100,\n",
       "       n_jobs=1, nthread=None, objective='multi:softprob', random_state=0,\n",
       "       reg_alpha=0, reg_lambda=1, scale_pos_weight=1, seed=None,\n",
       "       silent=True, subsample=1)"
      ]
     },
     "execution_count": 58,
     "metadata": {},
     "output_type": "execute_result"
    }
   ],
   "source": [
    "xgb_clf.fit(X_train, y_train)"
   ]
  },
  {
   "cell_type": "code",
   "execution_count": 59,
   "metadata": {},
   "outputs": [
    {
     "data": {
      "text/plain": [
       "0.57648"
      ]
     },
     "execution_count": 59,
     "metadata": {},
     "output_type": "execute_result"
    }
   ],
   "source": [
    "xgb_clf.score(X_test, y_test)"
   ]
  },
  {
   "cell_type": "markdown",
   "metadata": {},
   "source": [
    "Umiddelbart er ikke dette særlig imponerende.. Dårligere resultat enn vi hadde med random forest! Men det er typisk for XGBoost! Default-verdiene for hyperparameterene i XGBoost (de som ble listet når vi skrev `.fit` over) er sjelden gode. En må velge parametre som er tilpasset problemet. \n",
    "\n",
    "Dette kan gjøres via såkalt **hyperparametersøk**. Dette er utenfor vårt pensum så vi dropper det her. Jeg har tatt et kort søk etter gode parametre (med `GridSearchCV` om du lurer) og endt opp med følgende. Et større søk gjennom flere alternativer kunne ført til bedre resultater. Se <a href=\"http://nbviewer.jupyter.org/github/alu042/DAT158ML/blob/master/Part4-tree_based_models/DAT158-Part4-4-Optimizing_XGBoost.ipynb\">her</a> for tips om hvordan en kan optimere XGBoost (om du er særdeles interessert)."
   ]
  },
  {
   "cell_type": "code",
   "execution_count": 60,
   "metadata": {},
   "outputs": [],
   "source": [
    "xgb_clf = XGBClassifier(max_depth=10, min_child_weight=10, random_state=0, n_estimators=300, n_jobs=-1)"
   ]
  },
  {
   "cell_type": "code",
   "execution_count": 61,
   "metadata": {},
   "outputs": [
    {
     "data": {
      "text/plain": [
       "XGBClassifier(base_score=0.5, booster='gbtree', colsample_bylevel=1,\n",
       "       colsample_bytree=1, gamma=0, learning_rate=0.1, max_delta_step=0,\n",
       "       max_depth=10, min_child_weight=10, missing=None, n_estimators=300,\n",
       "       n_jobs=-1, nthread=None, objective='multi:softprob', random_state=0,\n",
       "       reg_alpha=0, reg_lambda=1, scale_pos_weight=1, seed=None,\n",
       "       silent=True, subsample=1)"
      ]
     },
     "execution_count": 61,
     "metadata": {},
     "output_type": "execute_result"
    }
   ],
   "source": [
    "#Advarsel: tar en god del tid å trene denne modellen\n",
    "xgb_clf.fit(X_train, y_train)"
   ]
  },
  {
   "cell_type": "code",
   "execution_count": 62,
   "metadata": {},
   "outputs": [
    {
     "data": {
      "text/plain": [
       "0.73424"
      ]
     },
     "execution_count": 62,
     "metadata": {},
     "output_type": "execute_result"
    }
   ],
   "source": [
    "xgb_clf.score(X_test, y_test)"
   ]
  },
  {
   "cell_type": "markdown",
   "metadata": {},
   "source": [
    "Modellen har en accuracy på 73.4%. La oss ta en titt på permutation importance for denne modellen. \n",
    "\n",
    "Advarsel: dette tar lang tid!"
   ]
  },
  {
   "cell_type": "code",
   "execution_count": 63,
   "metadata": {},
   "outputs": [
    {
     "data": {
      "text/plain": [
       "XGBClassifier(base_score=0.5, booster='gbtree', colsample_bylevel=1,\n",
       "       colsample_bytree=1, gamma=0, learning_rate=0.1, max_delta_step=0,\n",
       "       max_depth=10, min_child_weight=10, missing=None, n_estimators=300,\n",
       "       n_jobs=-1, nthread=None, objective='multi:softprob', random_state=0,\n",
       "       reg_alpha=0, reg_lambda=1, scale_pos_weight=1, seed=None,\n",
       "       silent=True, subsample=1)"
      ]
     },
     "execution_count": 63,
     "metadata": {},
     "output_type": "execute_result"
    }
   ],
   "source": [
    "# På grunn av en bug i ELI5 når PermutationImportance brukes sammen med XGBoost \n",
    "# må vi først trene modellen på nytt på følgende vis (ikke på Pandas data frame, \n",
    "# men på Numpy array):\n",
    "xgb_clf.fit(X_train.values, y_train.values)"
   ]
  },
  {
   "cell_type": "code",
   "execution_count": 64,
   "metadata": {},
   "outputs": [],
   "source": [
    "perm = PermutationImportance(xgb_clf, random_state=42)"
   ]
  },
  {
   "cell_type": "code",
   "execution_count": null,
   "metadata": {},
   "outputs": [],
   "source": [
    "perm.fit(X_test.values, y_test.values)"
   ]
  },
  {
   "cell_type": "code",
   "execution_count": null,
   "metadata": {},
   "outputs": [],
   "source": [
    "eli5.show_weights(perm, feature_names = X_test.columns.tolist())"
   ]
  },
  {
   "cell_type": "markdown",
   "metadata": {},
   "source": [
    "Vi får:\n",
    "\n",
    "<img width=30% src=\"assets/ehr-xgboost_perm_importance.png\">"
   ]
  }
 ],
 "metadata": {
  "kernelspec": {
   "display_name": "ELMED219",
   "language": "python",
   "name": "elmed219"
  },
  "language_info": {
   "codemirror_mode": {
    "name": "ipython",
    "version": 3
   },
   "file_extension": ".py",
   "mimetype": "text/x-python",
   "name": "python",
   "nbconvert_exporter": "python",
   "pygments_lexer": "ipython3",
   "version": "3.7.1"
  },
  "toc": {
   "base_numbering": 1,
   "nav_menu": {},
   "number_sections": true,
   "sideBar": true,
   "skip_h1_title": false,
   "title_cell": "Table of Contents",
   "title_sidebar": "Contents",
   "toc_cell": false,
   "toc_position": {},
   "toc_section_display": true,
   "toc_window_display": false
  }
 },
 "nbformat": 4,
 "nbformat_minor": 2
}
